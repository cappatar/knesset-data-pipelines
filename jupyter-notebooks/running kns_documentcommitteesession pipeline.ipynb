{
 "cells": [
  {
   "cell_type": "markdown",
   "source": [
    "Download the data:"
   ],
   "metadata": {
    "collapsed": false
   }
  },
  {
   "cell_type": "code",
   "outputs": [
    {
     "name": "stderr",
     "output_type": "stream",
     "text": [
      "  % Total    % Received % Xferd  Average Speed   Time    Time     Time  Current\n",
      "                                 Dload  Upload   Total   Spent    Left  Speed\n",
      "100  1815  100  1815    0     0  45375      0 --:--:-- --:--:-- --:--:-- 45375\n",
      "  % Total    % Received % Xferd  Average Speed   Time    Time     Time  Current\n",
      "                                 Dload  Upload   Total   Spent    Left  Speed\n",
      "100 15.8M  100 15.8M    0     0  24.8M      0 --:--:-- --:--:-- --:--:-- 24.8M\n"
     ]
    }
   ],
   "source": [
    "%%bash\n",
    "mkdir -p /pipelines/data/committees/kns_documentcommitteesession\n",
    "curl -k https://production.oknesset.org/pipelines/data/committees/kns_documentcommitteesession_dataservice/datapackage.json > /pipelines/data/committees/kns_documentcommitteesession_dataservice/datapackage.json\n",
    "curl -k https://production.oknesset.org/pipelines/data/committees/kns_documentcommitteesession_dataservice/kns_documentcommitteesession_dataservice.csv > /pipelines/data/committees/kns_documentcommitteesession_dataservice/kns_documentcommitteesession_dataservice.csv"
   ],
   "metadata": {
    "collapsed": false,
    "ExecuteTime": {
     "end_time": "2024-01-03T18:07:33.852713361Z",
     "start_time": "2024-01-03T18:07:33.126824823Z"
    }
   },
   "execution_count": 6
  },
  {
   "cell_type": "markdown",
   "source": [
    "The pipeline takes a long time to run for all committee sessions\n",
    "\n",
    "You should limit to running on a subset of sessions with cache by adding a filter step to kns_documentcommitteesession\n",
    "\n",
    "```\n",
    "  - run: filter\n",
    "    cache: true\n",
    "    parameters:\n",
    "      in:\n",
    "      - CommitteeSessionID: 2063122\n",
    "      - CommitteeSessionID: 2063126\n",
    "```\n",
    "\n",
    "Start a tika server for parsing doc / docx files:\n",
    "\n",
    "```\n",
    "docker run --rm -p 9998:9998 logicalspark/docker-tikaserver\n",
    "```\n",
    "\n",
    "Check that the Tika server is accessible via the notebook environment:"
   ],
   "metadata": {}
  },
  {
   "cell_type": "code",
   "execution_count": 2,
   "metadata": {
    "ExecuteTime": {
     "end_time": "2024-01-03T17:42:03.691809115Z",
     "start_time": "2024-01-03T17:42:03.606247793Z"
    }
   },
   "outputs": [
    {
     "name": "stdout",
     "output_type": "stream",
     "text": [
      "<li><b>POST</b> <i><a href=\"/translate/all/{translator}/{dest}\">/translate/all/{translator}/{dest}</a></i><br />Class: org.apache.tika.server.resource.TranslateResource<br />Method: autoTranslate<br />Produces: text/plain</li>\n",
      "<li><b>POST</b> <i><a href=\"/translate/all/{translator}/{src}/{dest}\">/translate/all/{translator}/{src}/{dest}</a></i><br />Class: org.apache.tika.server.resource.TranslateResource<br />Method: translate<br />Produces: text/plain</li>\n",
      "<li><b>PUT</b> <i><a href=\"/unpack/all{id:(/.*)?}\">/unpack/all{id:(/.*)?}</a></i><br />Class: org.apache.tika.server.resource.UnpackerResource<br />Method: unpackAll<br />Produces: application/zip<br />Produces: application/x-tar</li>\n",
      "<li><b>PUT</b> <i><a href=\"/unpack/{id:(/.*)?}\">/unpack/{id:(/.*)?}</a></i><br />Class: org.apache.tika.server.resource.UnpackerResource<br />Method: unpack<br />Produces: application/zip<br />Produces: application/x-tar</li>\n",
      "<li><b>GET</b> <i><a href=\"/version\">/version</a></i><br />Class: org.apache.tika.server.resource.TikaVersion<br />Method: getVersion<br />Produces: text/plain</li>\n",
      "</ul>\n",
      "\n",
      "    </div>\n",
      "  </body>\n",
      "</html>\n"
     ]
    },
    {
     "name": "stderr",
     "output_type": "stream",
     "text": [
      "  % Total    % Received % Xferd  Average Speed   Time    Time     Time  Current\n",
      "                                 Dload  Upload   Total   Spent    Left  Speed\n",
      "100  8432  100  8432    0     0   121k      0 --:--:-- --:--:-- --:--:--  121k\n"
     ]
    }
   ],
   "source": [
    "%%bash\n",
    "curl 172.17.0.1:9998 | tail"
   ]
  },
  {
   "cell_type": "markdown",
   "metadata": {},
   "source": [
    "Run the pipelines, setting the tika server environment var with the correct value:"
   ]
  },
  {
   "cell_type": "code",
   "execution_count": 7,
   "metadata": {
    "ExecuteTime": {
     "end_time": "2024-01-03T18:08:10.890815537Z",
     "start_time": "2024-01-03T18:07:47.471247035Z"
    }
   },
   "outputs": [
    {
     "name": "stdout",
     "output_type": "stream",
     "text": [
      "[./committees/kns_documentcommitteesession:T_0] >>> INFO    :05c0f424 RUNNING ./committees/kns_documentcommitteesession\r\n",
      "[./committees/kns_documentcommitteesession:T_0] >>> INFO    :05c0f424 Collecting dependencies\r\n",
      "[./committees/kns_documentcommitteesession:T_0] >>> INFO    :05c0f424 Running async task\r\n",
      "[./committees/kns_documentcommitteesession:T_0] >>> INFO    :05c0f424 Waiting for completion\r\n",
      "[./committees/kns_documentcommitteesession:T_0] >>> INFO    :05c0f424 Async task starting\r\n",
      "[./committees/kns_documentcommitteesession:T_0] >>> INFO    :05c0f424 Searching for existing caches\r\n",
      "[./committees/kns_documentcommitteesession:T_0] >>> INFO    :05c0f424 Building process chain:\r\n",
      "[./committees/kns_documentcommitteesession:T_0] >>> INFO    :- load_resource\r\n",
      "[./committees/kns_documentcommitteesession:T_0] >>> INFO    :- knesset.rename_resource\r\n",
      "[./committees/kns_documentcommitteesession:T_0] >>> INFO    :- filter\r\n",
      "[./committees/kns_documentcommitteesession:T_0] >>> INFO    :- download_document_committee_session\r\n",
      "[./committees/kns_documentcommitteesession:T_0] >>> INFO    :- parse_meeting_protocols\r\n",
      "[./committees/kns_documentcommitteesession:T_0] >>> INFO    :- parse_meeting_protocols\r\n",
      "[./committees/kns_documentcommitteesession:T_0] >>> INFO    :- knesset.dump_to_path\r\n",
      "[./committees/kns_documentcommitteesession:T_0] >>> INFO    :- knesset.dump_to_sql\r\n",
      "[./committees/kns_documentcommitteesession:T_0] >>> INFO    :- (sink)\r\n",
      "[./committees/kns_documentcommitteesession:T_0] >>> INFO    :load_resource: INFO    :Processed 130122 rows\r\n",
      "[./committees/kns_documentcommitteesession:T_0] >>> INFO    :knesset.rename_resource: INFO    :Processed 130122 rows\r\n",
      "[./committees/kns_documentcommitteesession:T_0] >>> INFO    :filter: INFO    :Processed 2 rows\r\n",
      "[./committees/kns_documentcommitteesession:T_0] >>> INFO    :download_document_committee_session: DEBUG   :Starting new HTTPS connection (1): fs.knesset.gov.il:443\r\n",
      "[./committees/kns_documentcommitteesession:T_0] >>> INFO    :05c0f424 DONE /pipelines/datapackage_pipelines_knesset/processors/rename_resource.py\r\n",
      "[./committees/kns_documentcommitteesession:T_0] >>> INFO    :05c0f424 DONE /usr/local/lib/python3.6/site-packages/datapackage_pipelines/specs/../lib/filter.py\r\n",
      "[./committees/kns_documentcommitteesession:T_0] >>> INFO    :05c0f424 DONE /usr/local/lib/python3.6/site-packages/datapackage_pipelines/specs/../lib/load_resource.py\r\n",
      "[./committees/kns_documentcommitteesession:T_0] >>> INFO    :download_document_committee_session: DEBUG   :https://fs.knesset.gov.il:443 \"GET //20/Committees/20_ptv_502208.doc HTTP/1.1\" 200 72831\r\n",
      "[./committees/kns_documentcommitteesession:T_0] >>> INFO    :download_document_committee_session: INFO    :Processed 2 rows\r\n",
      "[./committees/kns_documentcommitteesession:T_0] >>> INFO    :05c0f424 DONE /pipelines/committees/download_document_committee_session.py\r\n",
      "[./committees/kns_documentcommitteesession:T_0] >>> INFO    :parse_meeting_protocols: DEBUG   :Starting new HTTP connection (1): 172.17.0.1:9998\r\n",
      "[./committees/kns_documentcommitteesession:T_0] >>> INFO    :parse_meeting_protocols: DEBUG   :http://172.17.0.1:9998 \"PUT /rmeta/text HTTP/1.1\" 200 None\r\n",
      "[./committees/kns_documentcommitteesession:T_0] >>> INFO    :parse_meeting_protocols: INFO    :Processed 2 rows\r\n",
      "[./committees/kns_documentcommitteesession:T_0] >>> INFO    :05c0f424 DONE /pipelines/committees/parse_meeting_protocols.py\r\n",
      "[./committees/kns_documentcommitteesession:T_0] >>> INFO    :parse_meeting_protocols: DEBUG   :Starting new HTTP connection (1): 172.17.0.1:9998\r\n",
      "[./committees/kns_documentcommitteesession:T_0] >>> INFO    :parse_meeting_protocols: DEBUG   :http://172.17.0.1:9998 \"PUT /rmeta/text HTTP/1.1\" 200 None\r\n",
      "[./committees/kns_documentcommitteesession:T_0] >>> INFO    :parse_meeting_protocols: INFO    :Processed 2 rows\r\n",
      "[./committees/kns_documentcommitteesession:T_0] >>> INFO    :knesset.dump_to_path: INFO    :Processed 2 rows\r\n",
      "[./committees/kns_documentcommitteesession:T_0] >>> INFO    :knesset.dump_to_sql: INFO    :Processed 2 rows\r\n",
      "[./committees/kns_documentcommitteesession:T_0] >>> INFO    :05c0f424 DONE /pipelines/datapackage_pipelines_knesset/processors/dump_to_path.py\r\n",
      "[./committees/kns_documentcommitteesession:T_0] >>> INFO    :05c0f424 DONE /pipelines/committees/parse_meeting_protocols.py\r\n",
      "[./committees/kns_documentcommitteesession:T_0] >>> INFO    :05c0f424 DONE /pipelines/datapackage_pipelines_knesset/processors/dump_to_sql.py\r\n",
      "[./committees/kns_documentcommitteesession:T_0] >>> INFO    :05c0f424 DONE /usr/local/lib/python3.6/site-packages/datapackage_pipelines/manager/../lib/internal/sink.py\r\n",
      "[./committees/kns_documentcommitteesession:T_0] >>> INFO    :05c0f424 DONE V ./committees/kns_documentcommitteesession {'.dpp': {'out-datapackage-url': '../data/committees/kns_documentcommitteesession/datapackage.json'}, 'bytes': None, 'count_of_rows': 2, 'dataset_name': '_', 'download: downloaded files': 1, 'download: errored files': 0, 'download: existing files': 0, 'download: skipped files': 0, 'hash': '0fdf0946c31f534d0114fda4de4d1a38', 'parts: errored files': 0, 'parts: existing files': 0, 'parts: missing download files': 0, 'parts: parsed files': 1, 'parts: skipped files': 0, 'text: errored files': 0, 'text: existing files': 0, 'text: missing download files': 0, 'text: parsed files': 1, 'text: skipped files': 0}\r\n",
      "INFO    :RESULTS:\r\n",
      "INFO    :SUCCESS: ./committees/kns_documentcommitteesession {'bytes': None, 'count_of_rows': 2, 'dataset_name': '_', 'download: downloaded files': 1, 'download: errored files': 0, 'download: existing files': 0, 'download: skipped files': 0, 'hash': '0fdf0946c31f534d0114fda4de4d1a38', 'parts: errored files': 0, 'parts: existing files': 0, 'parts: missing download files': 0, 'parts: parsed files': 1, 'parts: skipped files': 0, 'text: errored files': 0, 'text: existing files': 0, 'text: missing download files': 0, 'text: parsed files': 1, 'text: skipped files': 0}\r\n"
     ]
    }
   ],
   "source": [
    "!{'cd /pipelines; TIKA_SERVER_ENDPOINT=http://172.17.0.1:9998 dpp run --verbose ./committees/kns_documentcommitteesession'}"
   ]
  },
  {
   "cell_type": "markdown",
   "metadata": {},
   "source": [
    "## Inspect the output"
   ]
  },
  {
   "cell_type": "code",
   "execution_count": 8,
   "metadata": {
    "ExecuteTime": {
     "end_time": "2024-01-03T18:08:51.451218140Z",
     "start_time": "2024-01-03T18:08:51.303071837Z"
    }
   },
   "outputs": [],
   "source": [
    "from dataflows import Flow, load, printer\n",
    "documentcommitteesessions = Flow(load('/pipelines/data/committees/kns_documentcommitteesession/datapackage.json')).results()[0][0]"
   ]
  },
  {
   "cell_type": "code",
   "execution_count": 10,
   "metadata": {
    "ExecuteTime": {
     "end_time": "2024-01-03T18:09:45.624236634Z",
     "start_time": "2024-01-03T18:09:45.578822436Z"
    }
   },
   "outputs": [
    {
     "data": {
      "text/plain": "{'DocumentCommitteeSessionID': 437298,\n 'CommitteeSessionID': 2072573,\n 'GroupTypeID': 87,\n 'GroupTypeDesc': 'חומר רקע',\n 'ApplicationID': 4,\n 'ApplicationDesc': 'PDF',\n 'FilePath': 'https://fs.knesset.gov.il//20/Committees/20_cs_bg_501366.pdf',\n 'LastUpdatedDate': datetime.datetime(2018, 6, 25, 13, 47, 50),\n 'download_filename': None,\n 'download_filesize': 0,\n 'download_crc32c': None,\n 'download_error': None,\n 'text_protocol_extension': None,\n 'text_parsed_filename': None,\n 'text_filesize': 0,\n 'text_crc32c': None,\n 'text_error': None,\n 'parts_protocol_extension': None,\n 'parts_parsed_filename': None,\n 'parts_filesize': 0,\n 'parts_crc32c': None,\n 'parts_error': None}"
     },
     "execution_count": 10,
     "metadata": {},
     "output_type": "execute_result"
    }
   ],
   "source": [
    "session_id = 2072573\n",
    "session = [session for session in documentcommitteesessions if session['CommitteeSessionID'] == session_id][0]\n",
    "session\n",
    "# session_files = {\n",
    "#     'download': '/pipelines/data/committees/download_document_committee_session/'+session['download_filename'],\n",
    "#     'text': '/pipelines/data/committees/meeting_protocols_text/'+session['text_parsed_filename'],\n",
    "#     'text_hash': '/pipelines/data/committees/meeting_protocols_text/'+session['text_parsed_filename']+'.hash',\n",
    "#     'parts': '/pipelines/data/committees/meeting_protocols_parts/'+session['parts_parsed_filename'],\n",
    "#     'parts_hash': '/pipelines/data/committees/meeting_protocols_parts/'+session['parts_parsed_filename']+'.hash',\n",
    "# }\n",
    "# session_files"
   ]
  },
  {
   "cell_type": "code",
   "execution_count": 25,
   "metadata": {},
   "outputs": [
    {
     "name": "stdout",
     "output_type": "stream",
     "text": [
      "-rw-r--r--    1 root     root       46.0K Oct 15 06:17 /pipelines/data/committees/download_document_committee_session/files/23/4/3/434231.DOC\n",
      "-rw-r--r--    1 root     root       83.1K Oct 15 18:02 /pipelines/data/committees/meeting_protocols_text/files/2/0/2063122.txt\n",
      "-rw-r--r--    1 root     root          32 Oct 15 18:02 /pipelines/data/committees/meeting_protocols_text/files/2/0/2063122.txt.hash\n",
      "-rw-r--r--    1 root     root       83.1K Oct 15 18:02 /pipelines/data/committees/meeting_protocols_parts/files/2/0/2063122.csv\n",
      "-rw-r--r--    1 root     root          32 Oct 15 18:02 /pipelines/data/committees/meeting_protocols_parts/files/2/0/2063122.csv.hash\n"
     ]
    }
   ],
   "source": [
    "import subprocess\n",
    "\n",
    "for k, v in session_files.items():\n",
    "    print(subprocess.check_output('ls -lah '+v, shell=True).decode().strip())"
   ]
  }
 ],
 "metadata": {
  "kernelspec": {
   "display_name": "Python 3",
   "language": "python",
   "name": "python3"
  },
  "language_info": {
   "codemirror_mode": {
    "name": "ipython",
    "version": 3
   },
   "file_extension": ".py",
   "mimetype": "text/x-python",
   "name": "python",
   "nbconvert_exporter": "python",
   "pygments_lexer": "ipython3",
   "version": "3.6.6"
  }
 },
 "nbformat": 4,
 "nbformat_minor": 2
}
