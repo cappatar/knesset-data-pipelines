{
 "cells": [
  {
   "cell_type": "markdown",
   "metadata": {},
   "source": [
    "## Run dependant pipelines"
   ]
  },
  {
   "cell_type": "code",
   "execution_count": 16,
   "metadata": {},
   "outputs": [
    {
     "name": "stdout",
     "output_type": "stream",
     "text": [
      "[./people/committee-meeting-attendees:T_0] >>> INFO    :1701d501 RUNNING ./people/committee-meeting-attendees\n",
      "[./people/committee-meeting-attendees:T_0] >>> INFO    :1701d501 Collecting dependencies\n",
      "[./people/committee-meeting-attendees:T_0] >>> INFO    :1701d501 Running async task\n",
      "[./people/committee-meeting-attendees:T_0] >>> INFO    :1701d501 Waiting for completion\n",
      "[./people/committee-meeting-attendees:T_0] >>> INFO    :1701d501 Async task starting\n",
      "[./people/committee-meeting-attendees:T_0] >>> INFO    :1701d501 Searching for existing caches\n",
      "[./people/committee-meeting-attendees:T_0] >>> INFO    :1701d501 Building process chain:\n",
      "[./people/committee-meeting-attendees:T_0] >>> INFO    :- load_resource\n",
      "[./people/committee-meeting-attendees:T_0] >>> INFO    :- dump.to_path\n",
      "[./people/committee-meeting-attendees:T_0] >>> INFO    :- (sink)\n",
      "[./people/committee-meeting-attendees:T_0] >>> INFO    :load_resource: DEBUG   :Starting new HTTP connection (1): storage.googleapis.com:80\n",
      "[./people/committee-meeting-attendees:T_0] >>> INFO    :load_resource: DEBUG   :http://storage.googleapis.com:80 \"GET /knesset-data-pipelines/data/people/committees/meeting-attendees/datapackage.json HTTP/1.1\" 200 4428\n",
      "[./people/committee-meeting-attendees:T_0] >>> INFO    :load_resource: DEBUG   :Starting new HTTP connection (1): storage.googleapis.com:80\n",
      "[./people/committee-meeting-attendees:T_0] >>> INFO    :load_resource: DEBUG   :http://storage.googleapis.com:80 \"GET /knesset-data-pipelines/data/people/committees/meeting-attendees/datapackage.json HTTP/1.1\" 200 4428\n",
      "[./people/committee-meeting-attendees:T_0] >>> INFO    :load_resource: DEBUG   :Starting new HTTP connection (1): storage.googleapis.com:80\n",
      "[./people/committee-meeting-attendees:T_0] >>> INFO    :load_resource: DEBUG   :http://storage.googleapis.com:80 \"GET /knesset-data-pipelines/data/people/committees/meeting-attendees/kns_committeesession.csv HTTP/1.1\" 200 122851580\n",
      "[./people/committee-meeting-attendees:T_0] >>> INFO    :load_resource: DEBUG   :Starting new HTTP connection (2): storage.googleapis.com:80\n",
      "[./people/committee-meeting-attendees:T_0] >>> INFO    :load_resource: DEBUG   :http://storage.googleapis.com:80 \"GET /knesset-data-pipelines/data/people/committees/meeting-attendees/kns_committeesession.csv HTTP/1.1\" 200 122851580\n",
      "[./people/committee-meeting-attendees:T_0] >>> INFO    :load_resource: INFO    :loaded 10000 rows\n",
      "[./people/committee-meeting-attendees:T_0] >>> INFO    :load_resource: INFO    :loaded 20000 rows\n",
      "[./people/committee-meeting-attendees:T_0] >>> INFO    :load_resource: INFO    :loaded 30000 rows\n",
      "[./people/committee-meeting-attendees:T_0] >>> INFO    :load_resource: INFO    :loaded 40000 rows\n",
      "[./people/committee-meeting-attendees:T_0] >>> INFO    :load_resource: INFO    :loaded 50000 rows\n",
      "[./people/committee-meeting-attendees:T_0] >>> INFO    :load_resource: INFO    :loaded 60000 rows\n",
      "[./people/committee-meeting-attendees:T_0] >>> INFO    :load_resource: INFO    :loaded 70000 rows\n",
      "[./people/committee-meeting-attendees:T_0] >>> INFO    :load_resource: INFO    :Processed 74414 rows\n",
      "[./people/committee-meeting-attendees:T_0] >>> INFO    :1701d501 DONE /usr/local/lib/python3.6/site-packages/datapackage_pipelines/specs/../lib/load_resource.py\n",
      "[./people/committee-meeting-attendees:T_0] >>> INFO    :dump.to_path: INFO    :Processed 74414 rows\n",
      "[./people/committee-meeting-attendees:T_0] >>> INFO    :1701d501 DONE /usr/local/lib/python3.6/site-packages/datapackage_pipelines/specs/../lib/dump/to_path.py\n",
      "[./people/committee-meeting-attendees:T_0] >>> INFO    :1701d501 DONE /usr/local/lib/python3.6/site-packages/datapackage_pipelines/manager/../lib/internal/sink.py\n",
      "[./people/committee-meeting-attendees:T_0] >>> INFO    :1701d501 DONE V ./people/committee-meeting-attendees {'.dpp': {'out-datapackage-url': '../data/people/committees/meeting-attendees/datapackage.json'}, 'bytes': 122854304, 'count_of_rows': 74414, 'dataset_name': '_', 'hash': 'f52c92db9e137e4c7778d62fdac7ef5c'}\n",
      "INFO    :RESULTS:\n",
      "INFO    :SUCCESS: ./people/committee-meeting-attendees {'bytes': 122854304, 'count_of_rows': 74414, 'dataset_name': '_', 'hash': 'f52c92db9e137e4c7778d62fdac7ef5c'}\n"
     ]
    }
   ],
   "source": [
    "!{'cd /pipelines; KNESSET_LOAD_FROM_URL=1 dpp run --verbose ./people/committee-meeting-attendees'}"
   ]
  },
  {
   "cell_type": "markdown",
   "metadata": {},
   "source": [
    "## Add a filter step\n",
    "\n",
    "You should uncomment / add a filter step to committee-meeting-speaker-stats pipeline:\n",
    "\n",
    "```\n",
    "  - run: filter\n",
    "    cache: true\n",
    "    parameters:\n",
    "      resources: kns_committeesession\n",
    "      in:\n",
    "      - CommitteeSessionID: 2059313\n",
    "  - run: committee_meeting_speaker_stats\n",
    "```"
   ]
  },
  {
   "cell_type": "markdown",
   "metadata": {},
   "source": [
    "## Download protocol parts files\n",
    "\n",
    "upgrade to latest dataflows library"
   ]
  },
  {
   "cell_type": "code",
   "execution_count": null,
   "metadata": {},
   "outputs": [],
   "source": [
    "!{'pip install --upgrade dataflows'}"
   ]
  },
  {
   "cell_type": "markdown",
   "metadata": {},
   "source": [
    "Restart the kernel if an upgrade was done"
   ]
  },
  {
   "cell_type": "markdown",
   "metadata": {},
   "source": [
    "Choose some session IDs to download protocol files for:"
   ]
  },
  {
   "cell_type": "code",
   "execution_count": 5,
   "metadata": {},
   "outputs": [],
   "source": [
    "session_ids = [2059313,86485,2058899,2081445]"
   ]
  },
  {
   "cell_type": "code",
   "execution_count": 6,
   "metadata": {},
   "outputs": [
    {
     "data": {
      "text/html": [
       "<h3>kns_committeesession</h3>"
      ],
      "text/plain": [
       "<IPython.core.display.HTML object>"
      ]
     },
     "metadata": {},
     "output_type": "display_data"
    },
    {
     "data": {
      "text/html": [
       "<table>\n",
       "<thead>\n",
       "<tr><th style=\"text-align: right;\">  #</th><th style=\"text-align: right;\">        CommitteeSessionID\n",
       "(integer)</th><th style=\"text-align: right;\">    Number\n",
       "(integer)</th><th style=\"text-align: right;\">   KnessetNum\n",
       "(integer)</th><th style=\"text-align: right;\">    TypeID\n",
       "(integer)</th><th>TypeDesc\n",
       "(string)      </th><th style=\"text-align: right;\">     CommitteeID\n",
       "(integer)</th><th>Location\n",
       "(string)                                                  </th><th>SessionUrl\n",
       "(string)                                                                                                   </th><th>BroadcastUrl\n",
       "(string)                                                                                               </th><th>StartDate\n",
       "(datetime)                    </th><th>FinishDate\n",
       "(datetime)                    </th><th>Note\n",
       "(string)                                                                                                         </th><th>LastUpdatedDate\n",
       "(datetime)                    </th><th>download_crc32c\n",
       "(string)         </th><th>download_filename\n",
       "(string)                        </th><th>download_filesize\n",
       "(integer)      </th><th>parts_crc32c\n",
       "(string)         </th><th>parts_filesize\n",
       "(integer)       </th><th>parts_parsed_filename\n",
       "(string)                      </th><th>text_crc32c\n",
       "(string)         </th><th>text_filesize\n",
       "(integer)       </th><th>text_parsed_filename\n",
       "(string)                      </th><th>topics\n",
       "(array)                                                                                                         </th><th>committee_name\n",
       "(string)              </th></tr>\n",
       "</thead>\n",
       "<tbody>\n",
       "<tr><td style=\"text-align: right;\">  1</td><td style=\"text-align: right;\">  86485</td><td style=\"text-align: right;\">334</td><td style=\"text-align: right;\">16</td><td style=\"text-align: right;\">161</td><td>פתוחה</td><td style=\"text-align: right;\">  23</td><td>חדר הוועדה, באגף הוועדות (קדמה), קומה 3, חדר 3740</td><td>http://main.knesset.gov.il/Activity/committees/Pages/AllCommitteesAgenda.aspx?Tab=3&ItemID=86485  </td><td>None                                                                                          </td><td>2004-12-27 11:30:00</td><td>None               </td><td>None                                                                                                    </td><td>2012-09-19 15:27:34</td><td>8zHRDQ==</td><td>files/23/7/1/71955.DOC </td><td>38912</td><td>UloMhw==</td><td>9385  </td><td>files/8/6/86485.csv  </td><td>Inn+AQ==</td><td>9342  </td><td>files/8/6/86485.txt  </td><td>['חוק רשות התעופה האזרחית, התשס\"ה-2005']                                                                </td><td>הכלכלה       </td></tr>\n",
       "<tr><td style=\"text-align: right;\">  2</td><td style=\"text-align: right;\">2058899</td><td style=\"text-align: right;\"> 51</td><td style=\"text-align: right;\">15</td><td style=\"text-align: right;\">161</td><td>פתוחה</td><td style=\"text-align: right;\">   2</td><td>חדר הוועדה, באגף הוועדות (קדמה), קומה 3, חדר 3750</td><td>http://main.knesset.gov.il/Activity/committees/Pages/AllCommitteesAgenda.aspx?Tab=3&ItemID=2058899</td><td>None                                                                                          </td><td>1999-11-25 00:00:00</td><td>1999-11-25 12:15:00</td><td>תקציב המשרד לקליטת העלייה לשנת 2002.                                                                    </td><td>2018-10-10 11:03:06</td><td>L9/m4w==</td><td>files/23/4/5/450720.DOC</td><td>51456</td><td>yfFdlw==</td><td>71227 </td><td>files/2/0/2058899.csv</td><td>UjcTNA==</td><td>71956 </td><td>files/2/0/2058899.txt</td><td>None                                                                                                    </td><td>הכספים       </td></tr>\n",
       "<tr><td style=\"text-align: right;\">  3</td><td style=\"text-align: right;\">2059313</td><td style=\"text-align: right;\">462</td><td style=\"text-align: right;\">15</td><td style=\"text-align: right;\">161</td><td>פתוחה</td><td style=\"text-align: right;\">   2</td><td>חדר הוועדה, באגף הוועדות (קדמה), קומה 3, חדר 3750</td><td>http://main.knesset.gov.il/Activity/committees/Pages/AllCommitteesAgenda.aspx?Tab=3&ItemID=2059313</td><td>None                                                                                          </td><td>2002-11-19 00:00:00</td><td>2002-11-19 00:00:00</td><td>הצעת חוק ההסדרים במשק המדינה (תיקוני חקיקה להשגת יעדי התקציב והמדיניות הכלכלית לשנת הכספים 2003, התש ...</td><td>2018-10-10 11:03:06</td><td>+lu4+A==</td><td>files/23/4/3/430592.DOC</td><td>91162</td><td>x9rEiQ==</td><td>194576</td><td>files/2/0/2059313.csv</td><td>jD1Riw==</td><td>195031</td><td>files/2/0/2059313.txt</td><td>None                                                                                                    </td><td>הכספים       </td></tr>\n",
       "<tr><td style=\"text-align: right;\">  4</td><td style=\"text-align: right;\">2081445</td><td style=\"text-align: right;\">  1</td><td style=\"text-align: right;\">22</td><td style=\"text-align: right;\">161</td><td>פתוחה</td><td style=\"text-align: right;\">2109</td><td>None                                             </td><td>http://main.knesset.gov.il/Activity/committees/Pages/AllCommitteesAgenda.aspx?Tab=3&ItemID=2081445</td><td>http://main.knesset.gov.il/Activity/committees/Pages/AllCommitteesBroadcast.aspx?TopicID=19806</td><td>2019-10-03 17:30:00</td><td>None               </td><td>None                                                                                                    </td><td>2019-10-03 22:48:36</td><td>None    </td><td>None                   </td><td>None </td><td>None    </td><td>None  </td><td>None                 </td><td>None    </td><td>None  </td><td>None                 </td><td>['בחירת ועדה זמנית לענייני כספים ולענייני חוץ וביטחון והמלצה על יושב ראש הוועדות', 'בחירת סגנים זמני ...</td><td>הוועדה המסדרת</td></tr>\n",
       "</tbody>\n",
       "</table>"
      ],
      "text/plain": [
       "<IPython.core.display.HTML object>"
      ]
     },
     "metadata": {},
     "output_type": "display_data"
    }
   ],
   "source": [
    "from dataflows import Flow, load, printer, filter_rows\n",
    "\n",
    "sessions_data = Flow(\n",
    "    load('/pipelines/data/committees/kns_committeesession/datapackage.json'),\n",
    "    filter_rows(lambda row: row['CommitteeSessionID'] in session_ids),\n",
    "    printer(tablefmt='html')\n",
    ").results()"
   ]
  },
  {
   "cell_type": "code",
   "execution_count": 8,
   "metadata": {},
   "outputs": [
    {
     "name": "stderr",
     "output_type": "stream",
     "text": [
      "curl -s -o /pipelines/data/committees/meeting_protocols_text/files/8/6/86485.txt https://production.oknesset.org/pipelines/data/committees/meeting_protocols_text/files/8/6/86485.txt\n",
      "curl -s -o /pipelines/data/committees/meeting_protocols_parts/files/8/6/86485.csv https://production.oknesset.org/pipelines/data/committees/meeting_protocols_parts/files/8/6/86485.csv\n",
      "curl -s -o /pipelines/data/committees/meeting_protocols_text/files/2/0/2058899.txt https://production.oknesset.org/pipelines/data/committees/meeting_protocols_text/files/2/0/2058899.txt\n",
      "curl -s -o /pipelines/data/committees/meeting_protocols_parts/files/2/0/2058899.csv https://production.oknesset.org/pipelines/data/committees/meeting_protocols_parts/files/2/0/2058899.csv\n",
      "curl -s -o /pipelines/data/committees/meeting_protocols_text/files/2/0/2059313.txt https://production.oknesset.org/pipelines/data/committees/meeting_protocols_text/files/2/0/2059313.txt\n",
      "curl -s -o /pipelines/data/committees/meeting_protocols_parts/files/2/0/2059313.csv https://production.oknesset.org/pipelines/data/committees/meeting_protocols_parts/files/2/0/2059313.csv\n"
     ]
    }
   ],
   "source": [
    "import os\n",
    "import subprocess\n",
    "import sys\n",
    "\n",
    "for session in sessions_data[0][0]:\n",
    "    for attr in ['text_parsed_filename', 'parts_parsed_filename']:\n",
    "        filename = session[attr]\n",
    "        if filename:\n",
    "            pathpart = 'meeting_protocols_text' if attr == 'text_parsed_filename' else 'meeting_protocols_parts'\n",
    "            url = 'https://production.oknesset.org/pipelines/data/committees/{}/{}'.format(pathpart, filename)\n",
    "            filename = '/pipelines/data/committees/{}/{}'.format(pathpart, session[attr])\n",
    "            os.makedirs(os.path.dirname(filename), exist_ok=True)\n",
    "            cmd = 'curl -s -o {} {}'.format(filename, url)\n",
    "            print(cmd, file=sys.stderr)\n",
    "            subprocess.check_call(cmd, shell=True)"
   ]
  },
  {
   "cell_type": "markdown",
   "metadata": {},
   "source": [
    "## Run the pipeline"
   ]
  },
  {
   "cell_type": "code",
   "execution_count": null,
   "metadata": {},
   "outputs": [],
   "source": [
    "!{'rm -rf /pipelines/data/people/committees/meeting-speaker-stats/cache_hash'}"
   ]
  },
  {
   "cell_type": "code",
   "execution_count": 26,
   "metadata": {},
   "outputs": [
    {
     "name": "stdout",
     "output_type": "stream",
     "text": [
      "[./people/committee-meeting-speaker-stats:T_0] >>> INFO    :76ef1179 RUNNING ./people/committee-meeting-speaker-stats\n",
      "[./people/committee-meeting-speaker-stats:T_0] >>> INFO    :76ef1179 Collecting dependencies\n",
      "[./people/committee-meeting-speaker-stats:T_0] >>> INFO    :76ef1179 Running async task\n",
      "[./people/committee-meeting-speaker-stats:T_0] >>> INFO    :76ef1179 Waiting for completion\n",
      "[./people/committee-meeting-speaker-stats:T_0] >>> INFO    :76ef1179 Async task starting\n",
      "[./people/committee-meeting-speaker-stats:T_0] >>> INFO    :76ef1179 Searching for existing caches\n",
      "[./people/committee-meeting-speaker-stats:T_0] >>> INFO    :Found cache for step 1: filter\n",
      "[./people/committee-meeting-speaker-stats:T_0] >>> INFO    :76ef1179 Building process chain:\n",
      "[./people/committee-meeting-speaker-stats:T_0] >>> INFO    :- cache_loader\n",
      "[./people/committee-meeting-speaker-stats:T_0] >>> INFO    :- committee_meeting_speaker_stats\n",
      "[./people/committee-meeting-speaker-stats:T_0] >>> INFO    :- knesset.dump_to_path\n",
      "[./people/committee-meeting-speaker-stats:T_0] >>> INFO    :- knesset.dump_to_sql\n",
      "[./people/committee-meeting-speaker-stats:T_0] >>> INFO    :- (sink)\n",
      "[./people/committee-meeting-speaker-stats:T_0] >>> INFO    :76ef1179 DONE /usr/local/lib/python3.6/site-packages/datapackage_pipelines/specs/../lib/cache_loader.py\n",
      "[./people/committee-meeting-speaker-stats:T_0] >>> INFO    :committee_meeting_speaker_stats: INFO    :Processed 596 rows\n",
      "[./people/committee-meeting-speaker-stats:T_0] >>> INFO    :knesset.dump_to_path: INFO    :Processed 596 rows\n",
      "[./people/committee-meeting-speaker-stats:T_0] >>> INFO    :knesset.dump_to_sql: INFO    :Processed 596 rows\n",
      "[./people/committee-meeting-speaker-stats:T_0] >>> INFO    :76ef1179 DONE /usr/local/lib/python3.6/site-packages/datapackage_pipelines/manager/../lib/internal/sink.py\n",
      "[./people/committee-meeting-speaker-stats:T_0] >>> INFO    :76ef1179 DONE /pipelines/people/committee_meeting_speaker_stats.py\n",
      "[./people/committee-meeting-speaker-stats:T_0] >>> INFO    :76ef1179 DONE /pipelines/datapackage_pipelines_knesset/processors/dump_to_path.py\n",
      "[./people/committee-meeting-speaker-stats:T_0] >>> INFO    :76ef1179 DONE /pipelines/datapackage_pipelines_knesset/processors/dump_to_sql.py\n",
      "[./people/committee-meeting-speaker-stats:T_0] >>> INFO    :76ef1179 DONE V ./people/committee-meeting-speaker-stats {'.dpp': {'out-datapackage-url': '../data/people/committees/meeting-speaker-stats/datapackage.json'}, 'bytes': None, 'count_of_rows': 596, 'dataset_name': '_', 'hash': 'e73a7af2f7f88c42a1cde33829ccb9af'}\n",
      "INFO    :RESULTS:\n",
      "INFO    :SUCCESS: ./people/committee-meeting-speaker-stats {'bytes': None, 'count_of_rows': 596, 'dataset_name': '_', 'hash': 'e73a7af2f7f88c42a1cde33829ccb9af'}\n"
     ]
    }
   ],
   "source": [
    "!{'cd /pipelines; dpp run --verbose ./people/committee-meeting-speaker-stats'}"
   ]
  },
  {
   "cell_type": "markdown",
   "metadata": {},
   "source": [
    "## Inspect the output"
   ]
  },
  {
   "cell_type": "code",
   "execution_count": 27,
   "metadata": {},
   "outputs": [
    {
     "data": {
      "text/plain": [
       "(<datapackage.package.Package at 0x7ff00e1460b8>, {})"
      ]
     },
     "execution_count": 27,
     "metadata": {},
     "output_type": "execute_result"
    }
   ],
   "source": [
    "from dataflows import Flow, load, printer\n",
    "from collections import defaultdict\n",
    "\n",
    "session_parts_stats = {}\n",
    "header_parts_stats = {}\n",
    "\n",
    "def aggregate_speaker_session_stats(rows):\n",
    "    if rows.res.name == 'speaker_stats':\n",
    "        for row in rows:\n",
    "            session = sessions_data\n",
    "            session_stats_row = session_parts_stats.setdefault(row['CommitteeSessionID'], defaultdict(int))\n",
    "            session_stats_row['num_parts'] += 1\n",
    "            headers_stats_row = header_parts_stats.setdefault(row['header'], defaultdict(int))\n",
    "            headers_stats_row['num_parts'] += 1\n",
    "    yield from rows\n",
    "\n",
    "Flow(\n",
    "    load('/pipelines/data/people/committees/meeting-speaker-stats/datapackage.json'),\n",
    "    aggregate_speaker_session_stats,\n",
    ").process()"
   ]
  },
  {
   "cell_type": "markdown",
   "metadata": {},
   "source": [
    "## Session speaker stats"
   ]
  },
  {
   "cell_type": "code",
   "execution_count": 29,
   "metadata": {},
   "outputs": [
    {
     "data": {
      "text/html": [
       "<h3>res_1</h3>"
      ],
      "text/plain": [
       "<IPython.core.display.HTML object>"
      ]
     },
     "metadata": {},
     "output_type": "display_data"
    },
    {
     "data": {
      "text/html": [
       "<table>\n",
       "<thead>\n",
       "<tr><th style=\"text-align: right;\">  #</th><th style=\"text-align: right;\">        CommitteeSessionID\n",
       "(integer)</th><th style=\"text-align: right;\">   KnessetNum\n",
       "(integer)</th><th>StartDate\n",
       "(datetime)                    </th><th>committee_name\n",
       "(string)       </th><th>topics\n",
       "(array)                                         </th><th>Note\n",
       "(string)                                                                                                         </th><th style=\"text-align: right;\">    num_parts\n",
       "(integer)</th><th>oknesset_url\n",
       "(string)                                               </th></tr>\n",
       "</thead>\n",
       "<tbody>\n",
       "<tr><td style=\"text-align: right;\">  1</td><td style=\"text-align: right;\">  86485</td><td style=\"text-align: right;\">16</td><td>2004-12-27 11:30:00</td><td>הכלכלה</td><td>['חוק רשות התעופה האזרחית, התשס\"ה-2005']</td><td>None                                                                                                    </td><td style=\"text-align: right;\"> 29</td><td>https://oknesset.org/meetings/8/6/86485.html  </td></tr>\n",
       "<tr><td style=\"text-align: right;\">  2</td><td style=\"text-align: right;\">2058899</td><td style=\"text-align: right;\">15</td><td>1999-11-25 00:00:00</td><td>הכספים</td><td>None                                    </td><td>תקציב המשרד לקליטת העלייה לשנת 2002.                                                                    </td><td style=\"text-align: right;\">128</td><td>https://oknesset.org/meetings/2/0/2058899.html</td></tr>\n",
       "<tr><td style=\"text-align: right;\">  3</td><td style=\"text-align: right;\">2059313</td><td style=\"text-align: right;\">15</td><td>2002-11-19 00:00:00</td><td>הכספים</td><td>None                                    </td><td>הצעת חוק ההסדרים במשק המדינה (תיקוני חקיקה להשגת יעדי התקציב והמדיניות הכלכלית לשנת הכספים 2003, התש ...</td><td style=\"text-align: right;\">435</td><td>https://oknesset.org/meetings/2/0/2059313.html</td></tr>\n",
       "</tbody>\n",
       "</table>"
      ],
      "text/plain": [
       "<IPython.core.display.HTML object>"
      ]
     },
     "metadata": {},
     "output_type": "display_data"
    },
    {
     "data": {
      "text/plain": [
       "(<datapackage.package.Package at 0x7ff00de4ef98>, {})"
      ]
     },
     "execution_count": 29,
     "metadata": {},
     "output_type": "execute_result"
    }
   ],
   "source": [
    "Flow(\n",
    "    ({\n",
    "        **{k: session[k] for k in ['CommitteeSessionID', 'KnessetNum', 'StartDate', 'committee_name', 'topics', 'Note']},\n",
    "        **session_parts_stats[session['CommitteeSessionID']],\n",
    "        'oknesset_url': 'https://oknesset.org/meetings/{}/{}/{}.html'.format(str(session['CommitteeSessionID'])[0],\n",
    "                                                                             str(session['CommitteeSessionID'])[1],\n",
    "                                                                             str(session['CommitteeSessionID']))\n",
    "    } for session in sessions_data[0][0] if session['CommitteeSessionID'] in session_parts_stats),\n",
    "    printer(tablefmt='html')\n",
    ").process()"
   ]
  },
  {
   "cell_type": "markdown",
   "metadata": {},
   "source": [
    "## Header stats"
   ]
  },
  {
   "cell_type": "code",
   "execution_count": 31,
   "metadata": {},
   "outputs": [
    {
     "data": {
      "text/html": [
       "<h3>res_1</h3>"
      ],
      "text/plain": [
       "<IPython.core.display.HTML object>"
      ]
     },
     "metadata": {},
     "output_type": "display_data"
    },
    {
     "data": {
      "text/html": [
       "<table>\n",
       "<thead>\n",
       "<tr><th style=\"text-align: right;\">  #</th><th>header\n",
       "(string)                           </th><th style=\"text-align: right;\">   num_parts\n",
       "(integer)</th></tr>\n",
       "</thead>\n",
       "<tbody>\n",
       "<tr><td style=\"text-align: right;\">  1</td><td>שרת הקליטה יעל תמיר       </td><td style=\"text-align: right;\">25</td></tr>\n",
       "<tr><td style=\"text-align: right;\">  2</td><td>שרת העליה והקליטה יעל תמיר</td><td style=\"text-align: right;\"> 1</td></tr>\n",
       "<tr><td style=\"text-align: right;\">  3</td><td>שר הקליטה והעליה יעל תמיר </td><td style=\"text-align: right;\"> 1</td></tr>\n",
       "</tbody>\n",
       "</table>"
      ],
      "text/plain": [
       "<IPython.core.display.HTML object>"
      ]
     },
     "metadata": {},
     "output_type": "display_data"
    },
    {
     "data": {
      "text/plain": [
       "(<datapackage.package.Package at 0x7ff00de97160>, {})"
      ]
     },
     "execution_count": 31,
     "metadata": {},
     "output_type": "execute_result"
    }
   ],
   "source": [
    "Flow(\n",
    "    ({\n",
    "        'header': header,\n",
    "        **headers_stats_row\n",
    "    } for header, headers_stats_row in header_parts_stats.items()\n",
    "    if header and 'יעל תמיר' in header),\n",
    "    printer(tablefmt='html')\n",
    ").process()"
   ]
  }
 ],
 "metadata": {
  "kernelspec": {
   "display_name": "Python 3",
   "language": "python",
   "name": "python3"
  },
  "language_info": {
   "codemirror_mode": {
    "name": "ipython",
    "version": 3
   },
   "file_extension": ".py",
   "mimetype": "text/x-python",
   "name": "python",
   "nbconvert_exporter": "python",
   "pygments_lexer": "ipython3",
   "version": "3.6.6"
  }
 },
 "nbformat": 4,
 "nbformat_minor": 2
}
