{
 "cells": [
  {
   "cell_type": "markdown",
   "metadata": {},
   "source": [
    "## Run dependant pipelines"
   ]
  },
  {
   "cell_type": "code",
   "execution_count": 16,
   "metadata": {},
   "outputs": [
    {
     "name": "stdout",
     "output_type": "stream",
     "text": [
      "[./people/committee-meeting-attendees:T_0] >>> INFO    :1701d501 RUNNING ./people/committee-meeting-attendees\n",
      "[./people/committee-meeting-attendees:T_0] >>> INFO    :1701d501 Collecting dependencies\n",
      "[./people/committee-meeting-attendees:T_0] >>> INFO    :1701d501 Running async task\n",
      "[./people/committee-meeting-attendees:T_0] >>> INFO    :1701d501 Waiting for completion\n",
      "[./people/committee-meeting-attendees:T_0] >>> INFO    :1701d501 Async task starting\n",
      "[./people/committee-meeting-attendees:T_0] >>> INFO    :1701d501 Searching for existing caches\n",
      "[./people/committee-meeting-attendees:T_0] >>> INFO    :1701d501 Building process chain:\n",
      "[./people/committee-meeting-attendees:T_0] >>> INFO    :- load_resource\n",
      "[./people/committee-meeting-attendees:T_0] >>> INFO    :- dump.to_path\n",
      "[./people/committee-meeting-attendees:T_0] >>> INFO    :- (sink)\n",
      "[./people/committee-meeting-attendees:T_0] >>> INFO    :load_resource: DEBUG   :Starting new HTTP connection (1): storage.googleapis.com:80\n",
      "[./people/committee-meeting-attendees:T_0] >>> INFO    :load_resource: DEBUG   :http://storage.googleapis.com:80 \"GET /knesset-data-pipelines/data/people/committees/meeting-attendees/datapackage.json HTTP/1.1\" 200 4428\n",
      "[./people/committee-meeting-attendees:T_0] >>> INFO    :load_resource: DEBUG   :Starting new HTTP connection (1): storage.googleapis.com:80\n",
      "[./people/committee-meeting-attendees:T_0] >>> INFO    :load_resource: DEBUG   :http://storage.googleapis.com:80 \"GET /knesset-data-pipelines/data/people/committees/meeting-attendees/datapackage.json HTTP/1.1\" 200 4428\n",
      "[./people/committee-meeting-attendees:T_0] >>> INFO    :load_resource: DEBUG   :Starting new HTTP connection (1): storage.googleapis.com:80\n",
      "[./people/committee-meeting-attendees:T_0] >>> INFO    :load_resource: DEBUG   :http://storage.googleapis.com:80 \"GET /knesset-data-pipelines/data/people/committees/meeting-attendees/kns_committeesession.csv HTTP/1.1\" 200 122851580\n",
      "[./people/committee-meeting-attendees:T_0] >>> INFO    :load_resource: DEBUG   :Starting new HTTP connection (2): storage.googleapis.com:80\n",
      "[./people/committee-meeting-attendees:T_0] >>> INFO    :load_resource: DEBUG   :http://storage.googleapis.com:80 \"GET /knesset-data-pipelines/data/people/committees/meeting-attendees/kns_committeesession.csv HTTP/1.1\" 200 122851580\n",
      "[./people/committee-meeting-attendees:T_0] >>> INFO    :load_resource: INFO    :loaded 10000 rows\n",
      "[./people/committee-meeting-attendees:T_0] >>> INFO    :load_resource: INFO    :loaded 20000 rows\n",
      "[./people/committee-meeting-attendees:T_0] >>> INFO    :load_resource: INFO    :loaded 30000 rows\n",
      "[./people/committee-meeting-attendees:T_0] >>> INFO    :load_resource: INFO    :loaded 40000 rows\n",
      "[./people/committee-meeting-attendees:T_0] >>> INFO    :load_resource: INFO    :loaded 50000 rows\n",
      "[./people/committee-meeting-attendees:T_0] >>> INFO    :load_resource: INFO    :loaded 60000 rows\n",
      "[./people/committee-meeting-attendees:T_0] >>> INFO    :load_resource: INFO    :loaded 70000 rows\n",
      "[./people/committee-meeting-attendees:T_0] >>> INFO    :load_resource: INFO    :Processed 74414 rows\n",
      "[./people/committee-meeting-attendees:T_0] >>> INFO    :1701d501 DONE /usr/local/lib/python3.6/site-packages/datapackage_pipelines/specs/../lib/load_resource.py\n",
      "[./people/committee-meeting-attendees:T_0] >>> INFO    :dump.to_path: INFO    :Processed 74414 rows\n",
      "[./people/committee-meeting-attendees:T_0] >>> INFO    :1701d501 DONE /usr/local/lib/python3.6/site-packages/datapackage_pipelines/specs/../lib/dump/to_path.py\n",
      "[./people/committee-meeting-attendees:T_0] >>> INFO    :1701d501 DONE /usr/local/lib/python3.6/site-packages/datapackage_pipelines/manager/../lib/internal/sink.py\n",
      "[./people/committee-meeting-attendees:T_0] >>> INFO    :1701d501 DONE V ./people/committee-meeting-attendees {'.dpp': {'out-datapackage-url': '../data/people/committees/meeting-attendees/datapackage.json'}, 'bytes': 122854304, 'count_of_rows': 74414, 'dataset_name': '_', 'hash': 'f52c92db9e137e4c7778d62fdac7ef5c'}\n",
      "INFO    :RESULTS:\n",
      "INFO    :SUCCESS: ./people/committee-meeting-attendees {'bytes': 122854304, 'count_of_rows': 74414, 'dataset_name': '_', 'hash': 'f52c92db9e137e4c7778d62fdac7ef5c'}\n"
     ]
    }
   ],
   "source": [
    "!{'cd /pipelines; KNESSET_LOAD_FROM_URL=1 dpp run --verbose ./people/committee-meeting-attendees'}"
   ]
  },
  {
   "cell_type": "markdown",
   "metadata": {},
   "source": [
    "## Add a filter step\n",
    "\n",
    "You should uncomment / add a filter step to committee-meeting-speaker-stats pipeline:\n",
    "\n",
    "```\n",
    "  - run: filter\n",
    "    cache: true\n",
    "    parameters:\n",
    "      resources: kns_committeesession\n",
    "      in:\n",
    "      - CommitteeSessionID: 2059313\n",
    "  - run: committee_meeting_speaker_stats\n",
    "```"
   ]
  },
  {
   "cell_type": "markdown",
   "metadata": {},
   "source": [
    "## Download protocol parts files\n",
    "\n",
    "upgrade to latest dataflows library"
   ]
  },
  {
   "cell_type": "code",
   "execution_count": null,
   "metadata": {},
   "outputs": [],
   "source": [
    "!{'pip install --upgrade dataflows'}"
   ]
  },
  {
   "cell_type": "markdown",
   "metadata": {},
   "source": [
    "Restart the kernel if an upgrade was done"
   ]
  },
  {
   "cell_type": "markdown",
   "metadata": {},
   "source": [
    "Choose some session IDs to download protocol files for:"
   ]
  },
  {
   "cell_type": "code",
   "execution_count": 1,
   "metadata": {},
   "outputs": [],
   "source": [
    "session_ids = [2059313,86485,2058899,2081445,65548]"
   ]
  },
  {
   "cell_type": "code",
   "execution_count": 5,
   "metadata": {},
   "outputs": [],
   "source": [
    "from dataflows import Flow, load\n",
    "\n",
    "sessions = []\n",
    "\n",
    "for session in Flow(load('/pipelines/data/committees/kns_committeesession/datapackage.json')).results()[0][0]:\n",
    "    if session['CommitteeSessionID'] in session_ids:\n",
    "        sessions.append(session)"
   ]
  },
  {
   "cell_type": "code",
   "execution_count": 7,
   "metadata": {},
   "outputs": [
    {
     "name": "stderr",
     "output_type": "stream",
     "text": [
      "curl -s -o /pipelines/data/committees/meeting_protocols_text/files/6/5/65548.txt https://production.oknesset.org/pipelines/data/committees/meeting_protocols_text/files/6/5/65548.txt\n",
      "curl -s -o /pipelines/data/committees/meeting_protocols_parts/files/6/5/65548.csv https://production.oknesset.org/pipelines/data/committees/meeting_protocols_parts/files/6/5/65548.csv\n",
      "curl -s -o /pipelines/data/committees/meeting_protocols_text/files/8/6/86485.txt https://production.oknesset.org/pipelines/data/committees/meeting_protocols_text/files/8/6/86485.txt\n",
      "curl -s -o /pipelines/data/committees/meeting_protocols_parts/files/8/6/86485.csv https://production.oknesset.org/pipelines/data/committees/meeting_protocols_parts/files/8/6/86485.csv\n",
      "curl -s -o /pipelines/data/committees/meeting_protocols_text/files/2/0/2058899.txt https://production.oknesset.org/pipelines/data/committees/meeting_protocols_text/files/2/0/2058899.txt\n",
      "curl -s -o /pipelines/data/committees/meeting_protocols_parts/files/2/0/2058899.csv https://production.oknesset.org/pipelines/data/committees/meeting_protocols_parts/files/2/0/2058899.csv\n",
      "curl -s -o /pipelines/data/committees/meeting_protocols_text/files/2/0/2059313.txt https://production.oknesset.org/pipelines/data/committees/meeting_protocols_text/files/2/0/2059313.txt\n",
      "curl -s -o /pipelines/data/committees/meeting_protocols_parts/files/2/0/2059313.csv https://production.oknesset.org/pipelines/data/committees/meeting_protocols_parts/files/2/0/2059313.csv\n"
     ]
    }
   ],
   "source": [
    "import os\n",
    "import subprocess\n",
    "import sys\n",
    "\n",
    "for session in sessions:\n",
    "    for attr in ['text_parsed_filename', 'parts_parsed_filename']:\n",
    "        filename = session[attr]\n",
    "        if filename:\n",
    "            pathpart = 'meeting_protocols_text' if attr == 'text_parsed_filename' else 'meeting_protocols_parts'\n",
    "            url = 'https://production.oknesset.org/pipelines/data/committees/{}/{}'.format(pathpart, filename)\n",
    "            filename = '/pipelines/data/committees/{}/{}'.format(pathpart, session[attr])\n",
    "            os.makedirs(os.path.dirname(filename), exist_ok=True)\n",
    "            cmd = 'curl -s -o {} {}'.format(filename, url)\n",
    "            print(cmd, file=sys.stderr)\n",
    "            subprocess.check_call(cmd, shell=True)"
   ]
  },
  {
   "cell_type": "markdown",
   "metadata": {},
   "source": [
    "## Run the pipeline"
   ]
  },
  {
   "cell_type": "code",
   "execution_count": 11,
   "metadata": {},
   "outputs": [],
   "source": [
    "!{'rm -rf /pipelines/data/people/committees/meeting-speaker-stats/cache_hash'}"
   ]
  },
  {
   "cell_type": "code",
   "execution_count": 12,
   "metadata": {},
   "outputs": [
    {
     "name": "stdout",
     "output_type": "stream",
     "text": [
      "[./people/committee-meeting-speaker-stats:T_0] >>> INFO    :b37196e2 RUNNING ./people/committee-meeting-speaker-stats\n",
      "[./people/committee-meeting-speaker-stats:T_0] >>> INFO    :b37196e2 Collecting dependencies\n",
      "[./people/committee-meeting-speaker-stats:T_0] >>> INFO    :b37196e2 Running async task\n",
      "[./people/committee-meeting-speaker-stats:T_0] >>> INFO    :b37196e2 Waiting for completion\n",
      "[./people/committee-meeting-speaker-stats:T_0] >>> INFO    :b37196e2 Async task starting\n",
      "[./people/committee-meeting-speaker-stats:T_0] >>> INFO    :b37196e2 Searching for existing caches\n",
      "[./people/committee-meeting-speaker-stats:T_0] >>> INFO    :Found cache for step 1: filter\n",
      "[./people/committee-meeting-speaker-stats:T_0] >>> INFO    :b37196e2 Building process chain:\n",
      "[./people/committee-meeting-speaker-stats:T_0] >>> INFO    :- cache_loader\n",
      "[./people/committee-meeting-speaker-stats:T_0] >>> INFO    :- committee_meeting_speaker_stats\n",
      "[./people/committee-meeting-speaker-stats:T_0] >>> INFO    :- knesset.dump_to_path\n",
      "[./people/committee-meeting-speaker-stats:T_0] >>> INFO    :- knesset.dump_to_sql\n",
      "[./people/committee-meeting-speaker-stats:T_0] >>> INFO    :- (sink)\n",
      "[./people/committee-meeting-speaker-stats:T_0] >>> INFO    :b37196e2 DONE /usr/local/lib/python3.6/site-packages/datapackage_pipelines/specs/../lib/cache_loader.py\n",
      "[./people/committee-meeting-speaker-stats:T_0] >>> INFO    :committee_meeting_speaker_stats: INFO    :Processed 641 rows\n",
      "[./people/committee-meeting-speaker-stats:T_0] >>> INFO    :knesset.dump_to_path: INFO    :Processed 641 rows\n",
      "[./people/committee-meeting-speaker-stats:T_0] >>> INFO    :knesset.dump_to_sql: INFO    :Processed 641 rows\n",
      "[./people/committee-meeting-speaker-stats:T_0] >>> INFO    :b37196e2 DONE /pipelines/people/committee_meeting_speaker_stats.py\n",
      "[./people/committee-meeting-speaker-stats:T_0] >>> INFO    :b37196e2 DONE /usr/local/lib/python3.6/site-packages/datapackage_pipelines/manager/../lib/internal/sink.py\n",
      "[./people/committee-meeting-speaker-stats:T_0] >>> INFO    :b37196e2 DONE /pipelines/datapackage_pipelines_knesset/processors/dump_to_path.py\n",
      "[./people/committee-meeting-speaker-stats:T_0] >>> INFO    :b37196e2 DONE /pipelines/datapackage_pipelines_knesset/processors/dump_to_sql.py\n",
      "[./people/committee-meeting-speaker-stats:T_0] >>> INFO    :b37196e2 DONE V ./people/committee-meeting-speaker-stats {'.dpp': {'out-datapackage-url': '../data/people/committees/meeting-speaker-stats/datapackage.json'}, 'bytes': None, 'count_of_rows': 641, 'dataset_name': '_', 'hash': '2cac21010ba4b42c1480c37d36751bb5'}\n",
      "INFO    :RESULTS:\n",
      "INFO    :SUCCESS: ./people/committee-meeting-speaker-stats {'bytes': None, 'count_of_rows': 641, 'dataset_name': '_', 'hash': '2cac21010ba4b42c1480c37d36751bb5'}\n"
     ]
    }
   ],
   "source": [
    "!{'cd /pipelines; dpp run --verbose ./people/committee-meeting-speaker-stats'}"
   ]
  },
  {
   "cell_type": "markdown",
   "metadata": {},
   "source": [
    "## Inspect the output"
   ]
  },
  {
   "cell_type": "code",
   "execution_count": 29,
   "metadata": {},
   "outputs": [
    {
     "name": "stdout",
     "output_type": "stream",
     "text": [
      "  session_id | stats\n",
      "   2058899   | defaultdict(<class 'int'>, {'num_parts': 128})\n",
      "   2059313   | defaultdict(<class 'int'>, {'num_parts': 435})\n",
      "     65548   | defaultdict(<class 'int'>, {'num_parts': 44})\n",
      "     86485   | defaultdict(<class 'int'>, {'num_parts': 29})\n"
     ]
    }
   ],
   "source": [
    "from dataflows import Flow, load, printer\n",
    "from collections import defaultdict\n",
    "\n",
    "session_parts_stats = {}\n",
    "header_parts_stats = {}\n",
    "\n",
    "def aggregate_speaker_session_stats(rows):\n",
    "    if rows.res.name == 'speaker_stats':\n",
    "        for row in rows:\n",
    "            session = sessions_data\n",
    "            session_stats_row = session_parts_stats.setdefault(row['CommitteeSessionID'], defaultdict(int))\n",
    "            session_stats_row['num_parts'] += 1\n",
    "            headers_stats_row = header_parts_stats.setdefault(row['header'], defaultdict(int))\n",
    "            headers_stats_row['num_parts'] += 1\n",
    "    yield from rows\n",
    "\n",
    "Flow(\n",
    "    load('/pipelines/data/people/committees/meeting-speaker-stats/datapackage.json'),\n",
    "    aggregate_speaker_session_stats,\n",
    ").process()\n",
    "\n",
    "print('  session_id | stats')\n",
    "for session_id, parts_stats in session_parts_stats.items():\n",
    "    print('{:10}   | {}'.format(session_id, parts_stats))"
   ]
  },
  {
   "cell_type": "markdown",
   "metadata": {},
   "source": [
    "## Header stats"
   ]
  },
  {
   "cell_type": "code",
   "execution_count": 42,
   "metadata": {},
   "outputs": [
    {
     "name": "stdout",
     "output_type": "stream",
     "text": [
      "           header          | stats\n",
      "שרת הקליטה יעל תמיר        |  {'num_parts': 25}\n",
      "שרת העליה והקליטה יעל תמיר  |  {'num_parts': 1}\n",
      "שר הקליטה והעליה יעל תמיר  |  {'num_parts': 1}\n"
     ]
    }
   ],
   "source": [
    "sample_rows = (\n",
    "    {\n",
    "        'header': header,\n",
    "        **headers_stats_row\n",
    "    } for header, headers_stats_row in header_parts_stats.items()\n",
    "    if header and 'יעל תמיר' in header\n",
    ")\n",
    "\n",
    "print('           header          | stats')\n",
    "for row in sample_rows:\n",
    "    print('{:25}  |  {}'.format(row.pop('header').strip(), row))\n"
   ]
  }
 ],
 "metadata": {
  "kernelspec": {
   "display_name": "Python 3",
   "language": "python",
   "name": "python3"
  },
  "language_info": {
   "codemirror_mode": {
    "name": "ipython",
    "version": 3
   },
   "file_extension": ".py",
   "mimetype": "text/x-python",
   "name": "python",
   "nbconvert_exporter": "python",
   "pygments_lexer": "ipython3",
   "version": "3.6.6"
  }
 },
 "nbformat": 4,
 "nbformat_minor": 2
}
