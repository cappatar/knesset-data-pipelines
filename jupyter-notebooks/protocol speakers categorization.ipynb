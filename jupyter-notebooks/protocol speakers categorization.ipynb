{
 "cells": [
  {
   "cell_type": "markdown",
   "metadata": {},
   "source": [
    "# Protocol speakers categorization"
   ]
  },
  {
   "cell_type": "code",
   "execution_count": 1,
   "metadata": {},
   "outputs": [
    {
     "name": "stdout",
     "output_type": "stream",
     "text": [
      "\n",
      "\n",
      "\n",
      "###############################\n",
      "LAST UPDATE: 30/11/2019\n",
      "###############################\n",
      "\n",
      "\n",
      "\n"
     ]
    }
   ],
   "source": [
    "import datetime\n",
    "update_tag = datetime.datetime.now().strftime('%Y-%m-%d %H %M')\n",
    "print('\\n\\n\\n###############################\\nLAST UPDATE: {}\\n###############################\\n\\n\\n'.format(datetime.datetime.now().strftime('%d/%m/%Y')))"
   ]
  },
  {
   "cell_type": "markdown",
   "metadata": {},
   "source": [
    "## Load the basic committee sessions data to memory"
   ]
  },
  {
   "cell_type": "code",
   "execution_count": 2,
   "metadata": {},
   "outputs": [],
   "source": [
    "from dataflows import Flow, load\n",
    "\n",
    "committee_sessions_data = Flow(\n",
    "    load('https://production.oknesset.org/pipelines/data/committees/kns_committeesession/datapackage.json'),\n",
    "    load('https://production.oknesset.org/pipelines/data/committees/kns_cmtsessionitem/datapackage.json'),\n",
    "    load('https://production.oknesset.org/pipelines/data/knesset/kns_itemtype/datapackage.json')\n",
    ").results()"
   ]
  },
  {
   "cell_type": "code",
   "execution_count": 3,
   "metadata": {},
   "outputs": [],
   "source": [
    "kns_committeesession_rows = committee_sessions_data[0][0]\n",
    "kns_cmtsessionitem_rows = committee_sessions_data[0][1]\n",
    "kns_itemtype_rows = committee_sessions_data[0][2]"
   ]
  },
  {
   "cell_type": "code",
   "execution_count": 4,
   "metadata": {},
   "outputs": [
    {
     "data": {
      "text/html": [
       "<h2>kns_committeesession</h2><br/><table>\n",
       "<thead>\n",
       "<tr><th style=\"text-align: right;\">  CommitteeSessionID</th><th>Number  </th><th style=\"text-align: right;\">  KnessetNum</th><th style=\"text-align: right;\">  TypeID</th><th>TypeDesc  </th><th style=\"text-align: right;\">  CommitteeID</th><th>Location                                         </th><th>SessionUrl                                                                                       </th><th>BroadcastUrl  </th><th>StartDate          </th><th>FinishDate  </th><th>Note  </th><th>LastUpdatedDate    </th><th>download_crc32c  </th><th>download_filename  </th><th>download_filesize  </th><th>parts_crc32c  </th><th>parts_filesize  </th><th>parts_parsed_filename  </th><th>text_crc32c  </th><th>text_filesize  </th><th>text_parsed_filename  </th><th>topics                                            </th><th>committee_name       </th></tr>\n",
       "</thead>\n",
       "<tbody>\n",
       "<tr><td style=\"text-align: right;\">               64990</td><td>        </td><td style=\"text-align: right;\">          15</td><td style=\"text-align: right;\">     161</td><td>פתוחה     </td><td style=\"text-align: right;\">           25</td><td>חדר הוועדה, באגף קדמה, קומה 1, חדר 1720          </td><td>http://main.knesset.gov.il/Activity/committees/Pages/AllCommitteesAgenda.aspx?Tab=3&ItemID=64990 </td><td>              </td><td>2002-06-12 09:00:00</td><td>            </td><td>      </td><td>2011-04-12 05:28:59</td><td>                 </td><td>                   </td><td>                   </td><td>              </td><td>                </td><td>                       </td><td>             </td><td>               </td><td>                      </td><td>['חוק הבחירות לכנסת (תיקון מס\\' 52), התשס\"ד-2004']</td><td>ועדת החוקה, חוק ומשפט</td></tr>\n",
       "<tr><td style=\"text-align: right;\">              470756</td><td>        </td><td style=\"text-align: right;\">          18</td><td style=\"text-align: right;\">     161</td><td>פתוחה     </td><td style=\"text-align: right;\">          661</td><td>חדר הוועדה, באגף הוועדות (קדמה), קומה 2, חדר 2740</td><td>http://main.knesset.gov.il/Activity/committees/Pages/AllCommitteesAgenda.aspx?Tab=3&ItemID=470756</td><td>              </td><td>2012-06-06 09:30:00</td><td>            </td><td>      </td><td>2012-09-19 15:27:32</td><td>                 </td><td>                   </td><td>                   </td><td>              </td><td>                </td><td>                       </td><td>             </td><td>               </td><td>                      </td><td>['דו\"ח מבקר המדינה על ההתמודדות עם המשט הטורקי '] </td><td>לענייני ביקורת המדינה</td></tr>\n",
       "</tbody>\n",
       "</table>"
      ],
      "text/plain": [
       "<IPython.core.display.HTML object>"
      ]
     },
     "metadata": {},
     "output_type": "display_data"
    },
    {
     "data": {
      "text/html": [
       "<h2>kns_cmtsessionitem_rows</h2><br/><table>\n",
       "<thead>\n",
       "<tr><th style=\"text-align: right;\">  CmtSessionItemID</th><th style=\"text-align: right;\">  ItemID</th><th style=\"text-align: right;\">  CommitteeSessionID</th><th style=\"text-align: right;\">  Ordinal</th><th>StatusID  </th><th>Name                                                                                       </th><th style=\"text-align: right;\">  ItemTypeID</th><th>LastUpdatedDate    </th></tr>\n",
       "</thead>\n",
       "<tbody>\n",
       "<tr><td style=\"text-align: right;\">             29859</td><td style=\"text-align: right;\">   74042</td><td style=\"text-align: right;\">               66076</td><td style=\"text-align: right;\">         </td><td>          </td><td>מסגרות להשמה חוץ ביתית לילדים בסיכון - סקירה                                               </td><td style=\"text-align: right;\">          11</td><td>2012-09-20 22:23:47</td></tr>\n",
       "<tr><td style=\"text-align: right;\">             29860</td><td style=\"text-align: right;\">   73194</td><td style=\"text-align: right;\">               66077</td><td style=\"text-align: right;\">       10</td><td>          </td><td>הפרסום בעיתון מעריב על שעות העבודה הרבות של נהגי \"אגד\" - דיון מהיר בהצעתה של ח\"כ אורית נוקד</td><td style=\"text-align: right;\">          11</td><td>2012-09-20 22:23:47</td></tr>\n",
       "</tbody>\n",
       "</table>"
      ],
      "text/plain": [
       "<IPython.core.display.HTML object>"
      ]
     },
     "metadata": {},
     "output_type": "display_data"
    },
    {
     "data": {
      "text/html": [
       "<h2>kns_itemtype_rows</h2><br/><table>\n",
       "<thead>\n",
       "<tr><th style=\"text-align: right;\">  ItemTypeID</th><th>Desc    </th><th>TableName  </th></tr>\n",
       "</thead>\n",
       "<tbody>\n",
       "<tr><td style=\"text-align: right;\">           1</td><td>שאילתה  </td><td>KNS_Query  </td></tr>\n",
       "<tr><td style=\"text-align: right;\">           2</td><td>הצעת חוק</td><td>KNS_Bill   </td></tr>\n",
       "</tbody>\n",
       "</table>"
      ],
      "text/plain": [
       "<IPython.core.display.HTML object>"
      ]
     },
     "metadata": {},
     "output_type": "display_data"
    }
   ],
   "source": [
    "from IPython.display import HTML, display\n",
    "import tabulate\n",
    "for title, rows in {\n",
    "    'kns_committeesession': kns_committeesession_rows, \n",
    "    'kns_cmtsessionitem_rows': kns_cmtsessionitem_rows, \n",
    "    'kns_itemtype_rows': kns_itemtype_rows\n",
    "}.items():\n",
    "    display(HTML('<h2>{}</h2><br/>{}'.format(title, tabulate.tabulate(rows[:2], tablefmt='html', headers='keys'))))"
   ]
  },
  {
   "cell_type": "code",
   "execution_count": 5,
   "metadata": {},
   "outputs": [
    {
     "data": {
      "text/html": [
       "<table>\n",
       "<thead>\n",
       "<tr><th style=\"text-align: right;\">  num sessions</th><th style=\"text-align: right;\">  num session items</th><th style=\"text-align: right;\">  num item types</th></tr>\n",
       "</thead>\n",
       "<tbody>\n",
       "<tr><td style=\"text-align: right;\">         74441</td><td style=\"text-align: right;\">              47705</td><td style=\"text-align: right;\">              10</td></tr>\n",
       "</tbody>\n",
       "</table>"
      ],
      "text/plain": [
       "<IPython.core.display.HTML object>"
      ]
     },
     "metadata": {},
     "output_type": "display_data"
    }
   ],
   "source": [
    "from collections import defaultdict\n",
    "\n",
    "stats = defaultdict(int)\n",
    "\n",
    "sessions_by_id = {}\n",
    "item_types_by_id = {}\n",
    "\n",
    "for row in kns_committeesession_rows:\n",
    "    sessions_by_id[row['CommitteeSessionID']] = row\n",
    "    stats['num sessions'] += 1\n",
    "\n",
    "for row in kns_cmtsessionitem_rows:\n",
    "    stats['num session items'] += 1\n",
    "    session_id = row['CommitteeSessionID']\n",
    "    session = sessions_by_id.get(session_id)\n",
    "    if session:\n",
    "        session.setdefault('items', []).append(row)\n",
    "    else:\n",
    "        stats['num session items without related session'] += 1\n",
    "\n",
    "for row in kns_itemtype_rows:\n",
    "    item_types_by_id[row['ItemTypeID']] = row\n",
    "    stats['num item types'] += 1\n",
    "\n",
    "display(HTML('{}'.format(tabulate.tabulate([dict(stats)], tablefmt='html', headers='keys'))))"
   ]
  },
  {
   "cell_type": "code",
   "execution_count": 6,
   "metadata": {},
   "outputs": [
    {
     "data": {
      "text/html": [
       "<table>\n",
       "<thead>\n",
       "<tr><th style=\"text-align: right;\">  ItemTypeID</th><th>Desc           </th><th>TableName          </th></tr>\n",
       "</thead>\n",
       "<tbody>\n",
       "<tr><td style=\"text-align: right;\">           1</td><td>שאילתה         </td><td>KNS_Query          </td></tr>\n",
       "<tr><td style=\"text-align: right;\">           2</td><td>הצעת חוק       </td><td>KNS_Bill           </td></tr>\n",
       "<tr><td style=\"text-align: right;\">           3</td><td>הצעת אי אמון   </td><td>                   </td></tr>\n",
       "<tr><td style=\"text-align: right;\">           4</td><td>הצעה לסדר היום </td><td>KNS_Agenda         </td></tr>\n",
       "<tr><td style=\"text-align: right;\">           5</td><td>ישיבת מליאה    </td><td>KNS_PlenumSession  </td></tr>\n",
       "<tr><td style=\"text-align: right;\">          12</td><td>ישיבת ועדה     </td><td>KNS_CommitteSession</td></tr>\n",
       "<tr><td style=\"text-align: right;\">        6000</td><td>פעולה על פי חוק</td><td>KNS_Law            </td></tr>\n",
       "<tr><td style=\"text-align: right;\">        6001</td><td>תיקון טעות     </td><td>KNS_Law            </td></tr>\n",
       "<tr><td style=\"text-align: right;\">        6002</td><td>חוק בן חיצוני  </td><td>KNS_Law            </td></tr>\n",
       "<tr><td style=\"text-align: right;\">        6003</td><td>חוק אב         </td><td>KNS_IsraelLaw      </td></tr>\n",
       "</tbody>\n",
       "</table>"
      ],
      "text/plain": [
       "<IPython.core.display.HTML object>"
      ]
     },
     "metadata": {},
     "output_type": "display_data"
    }
   ],
   "source": [
    "display(HTML('{}'.format(tabulate.tabulate(item_types_by_id.values(), tablefmt='html', headers='keys'))))"
   ]
  },
  {
   "cell_type": "markdown",
   "metadata": {},
   "source": [
    "## Relate sessions to bills/laws based on item types"
   ]
  },
  {
   "cell_type": "code",
   "execution_count": 7,
   "metadata": {},
   "outputs": [
    {
     "data": {
      "text/html": [
       "<table>\n",
       "<thead>\n",
       "<tr><th style=\"text-align: right;\">  num sessions</th><th style=\"text-align: right;\">  related to bill</th><th style=\"text-align: right;\">  unknown item type id 11/15</th><th style=\"text-align: right;\">  related to law</th><th style=\"text-align: right;\">  related to bill and law</th></tr>\n",
       "</thead>\n",
       "<tbody>\n",
       "<tr><td style=\"text-align: right;\">         74441</td><td style=\"text-align: right;\">            11505</td><td style=\"text-align: right;\">                       26542</td><td style=\"text-align: right;\">            1204</td><td style=\"text-align: right;\">                       28</td></tr>\n",
       "</tbody>\n",
       "</table>"
      ],
      "text/plain": [
       "<IPython.core.display.HTML object>"
      ]
     },
     "metadata": {},
     "output_type": "display_data"
    }
   ],
   "source": [
    "stats = defaultdict(int)\n",
    "\n",
    "for session in sessions_by_id.values():\n",
    "    stats['num sessions'] += 1\n",
    "    session['related_to_bill'] = False\n",
    "    session['related_to_law'] = False\n",
    "    for item in session.get('items', []):\n",
    "        item_type_id = item['ItemTypeID']\n",
    "        item_type = item_types_by_id.get(item_type_id)\n",
    "        if item_type:\n",
    "            table_name = item_type['TableName']\n",
    "            if table_name in ['KNS_Law', 'KNS_IsraelLaw']:\n",
    "                session['related_to_law'] = True\n",
    "            elif table_name == 'KNS_Bill':\n",
    "                session['related_to_bill'] = True\n",
    "        else:\n",
    "            assert item_type_id in [11,15], item_type_id\n",
    "            stats['unknown item type id 11/15'] += 1\n",
    "    if session['related_to_bill'] and session['related_to_law']:\n",
    "        stats['related to bill and law'] += 1\n",
    "    elif session['related_to_bill']:\n",
    "        stats['related to bill'] += 1\n",
    "    elif session['related_to_law']:\n",
    "        stats['related to law'] += 1\n",
    "\n",
    "display(HTML('{}'.format(tabulate.tabulate([dict(stats)], tablefmt='html', headers='keys'))))"
   ]
  },
  {
   "cell_type": "markdown",
   "metadata": {},
   "source": [
    "## Mark sessions which have parts / text protocols"
   ]
  },
  {
   "cell_type": "code",
   "execution_count": 8,
   "metadata": {},
   "outputs": [
    {
     "data": {
      "text/html": [
       "<table>\n",
       "<thead>\n",
       "<tr><th style=\"text-align: right;\">  num sessions</th><th style=\"text-align: right;\">  has_downloaded_protocol</th><th style=\"text-align: right;\">  has_parts_protocol</th><th style=\"text-align: right;\">  has_text_protocol</th></tr>\n",
       "</thead>\n",
       "<tbody>\n",
       "<tr><td style=\"text-align: right;\">         74441</td><td style=\"text-align: right;\">                    46690</td><td style=\"text-align: right;\">               46664</td><td style=\"text-align: right;\">              46659</td></tr>\n",
       "</tbody>\n",
       "</table>"
      ],
      "text/plain": [
       "<IPython.core.display.HTML object>"
      ]
     },
     "metadata": {},
     "output_type": "display_data"
    }
   ],
   "source": [
    "stats = defaultdict(int)\n",
    "\n",
    "for session in sessions_by_id.values():\n",
    "    stats['num sessions'] += 1\n",
    "    session['has_downloaded_protocol'] = session['download_filesize'] and session['download_filesize'] > 100\n",
    "    session['has_parts_protocol'] = session['parts_filesize'] and session['parts_filesize'] > 100\n",
    "    session['has_text_protocol'] = session['text_filesize'] and session['text_filesize'] > 100\n",
    "    if session['has_downloaded_protocol']:\n",
    "        stats['has_downloaded_protocol'] += 1\n",
    "    if session['has_parts_protocol']:\n",
    "        stats['has_parts_protocol'] += 1\n",
    "    if session['has_text_protocol']:\n",
    "        stats['has_text_protocol'] += 1\n",
    "\n",
    "display(HTML('{}'.format(tabulate.tabulate([dict(stats)], tablefmt='html', headers='keys'))))"
   ]
  },
  {
   "cell_type": "markdown",
   "metadata": {},
   "source": [
    "## Load protocol attendees data"
   ]
  },
  {
   "cell_type": "code",
   "execution_count": 9,
   "metadata": {},
   "outputs": [
    {
     "data": {
      "text/html": [
       "<table>\n",
       "<thead>\n",
       "<tr><th style=\"text-align: right;\">  num sessions</th><th style=\"text-align: right;\">  valid session with attendees data</th></tr>\n",
       "</thead>\n",
       "<tbody>\n",
       "<tr><td style=\"text-align: right;\">         74441</td><td style=\"text-align: right;\">                              74441</td></tr>\n",
       "</tbody>\n",
       "</table>"
      ],
      "text/plain": [
       "<IPython.core.display.HTML object>"
      ]
     },
     "metadata": {},
     "output_type": "display_data"
    }
   ],
   "source": [
    "stats = defaultdict(int)\n",
    "\n",
    "def load_attendees(rows):\n",
    "    for row in rows:\n",
    "        yield row\n",
    "        stats['num sessions'] += 1\n",
    "        session = sessions_by_id.get(row['CommitteeSessionID'])\n",
    "        if session:\n",
    "            stats['valid session with attendees data'] += 1\n",
    "            session.update(\n",
    "                attended_mk_individual_ids=row['attended_mk_individual_ids'],\n",
    "                invitees=row['invitees'],\n",
    "                legal_advisors=row['legal_advisors'],\n",
    "                manager=row['manager'],\n",
    "                mks=row['mks'],\n",
    "                financial_advisors=row['financial_advisors']\n",
    "            )\n",
    "        else:\n",
    "            stats['invalid session, missing related session in sessions_by_id'] += 1\n",
    "\n",
    "Flow(\n",
    "    load('https://production.oknesset.org/pipelines/data/people/committees/meeting-attendees/datapackage.json'),\n",
    "    load_attendees\n",
    ").process()\n",
    "\n",
    "display(HTML('{}'.format(tabulate.tabulate([dict(stats)], tablefmt='html', headers='keys'))))"
   ]
  },
  {
   "cell_type": "markdown",
   "metadata": {},
   "source": [
    "## Mark sessions which have different attendee types"
   ]
  },
  {
   "cell_type": "code",
   "execution_count": 10,
   "metadata": {},
   "outputs": [
    {
     "data": {
      "text/html": [
       "<table>\n",
       "<thead>\n",
       "<tr><th style=\"text-align: right;\">  num sessions</th><th style=\"text-align: right;\">  has mks</th><th style=\"text-align: right;\">  has manager</th><th style=\"text-align: right;\">  has legal_advisors</th><th style=\"text-align: right;\">  has invitees</th><th style=\"text-align: right;\">  has attended_mk_individual_ids</th></tr>\n",
       "</thead>\n",
       "<tbody>\n",
       "<tr><td style=\"text-align: right;\">         74441</td><td style=\"text-align: right;\">    38667</td><td style=\"text-align: right;\">        33607</td><td style=\"text-align: right;\">               23560</td><td style=\"text-align: right;\">         38292</td><td style=\"text-align: right;\">                           35753</td></tr>\n",
       "</tbody>\n",
       "</table>"
      ],
      "text/plain": [
       "<IPython.core.display.HTML object>"
      ]
     },
     "metadata": {},
     "output_type": "display_data"
    }
   ],
   "source": [
    "stats = defaultdict(int)\n",
    "\n",
    "for session in sessions_by_id.values():\n",
    "    stats['num sessions'] += 1\n",
    "    for invitees_type in ['mks', 'manager', 'legal_advisors', 'invitees', 'attended_mk_individual_ids']:\n",
    "        session['has {}'.format(invitees_type)] = False\n",
    "        invitees = session.get(invitees_type)\n",
    "        if invitees and len(invitees) > 0:\n",
    "            session['has {}'.format(invitees_type)] = True\n",
    "            stats['has {}'.format(invitees_type)] += 1\n",
    "#     if session['has manager'] and session['has legal_advisors'] and session['has manager']:\n",
    "#     if session['text_parsed_filename'] and not session['has manager']:\n",
    "#         print(session)\n",
    "#         break\n",
    "            \n",
    "display(HTML('{}'.format(tabulate.tabulate([dict(stats)], tablefmt='html', headers='keys'))))"
   ]
  },
  {
   "cell_type": "markdown",
   "metadata": {},
   "source": [
    "## Load bill/lawdata"
   ]
  },
  {
   "cell_type": "code",
   "execution_count": 11,
   "metadata": {},
   "outputs": [],
   "source": [
    "kns_bill_rows, kns_law_binding_rows, kns_law_rows, kns_israel_law_rows = Flow(\n",
    "    load('https://production.oknesset.org/pipelines/data/bills/kns_bill/datapackage.json'),\n",
    "    load('https://production.oknesset.org/pipelines/data/laws/kns_law_binding/datapackage.json'),\n",
    "    load('https://production.oknesset.org/pipelines/data/laws/kns_law/datapackage.json'),\n",
    "    load('https://production.oknesset.org/pipelines/data/laws/kns_israel_law/datapackage.json'),\n",
    ").results()[0]"
   ]
  },
  {
   "cell_type": "code",
   "execution_count": 12,
   "metadata": {},
   "outputs": [],
   "source": [
    "bills = {}\n",
    "for bill in kns_bill_rows:\n",
    "    bills[bill['BillID']] = bill"
   ]
  },
  {
   "cell_type": "code",
   "execution_count": 13,
   "metadata": {},
   "outputs": [],
   "source": [
    "laws = {}\n",
    "for law in kns_law_rows:\n",
    "    laws[law['LawID']] = law"
   ]
  },
  {
   "cell_type": "code",
   "execution_count": 14,
   "metadata": {},
   "outputs": [],
   "source": [
    "israel_laws = {}\n",
    "for israel_law in kns_israel_law_rows:\n",
    "    israel_laws[israel_law['IsraelLawID']] = israel_law"
   ]
  },
  {
   "cell_type": "code",
   "execution_count": 15,
   "metadata": {},
   "outputs": [],
   "source": [
    "for law_binding in kns_law_binding_rows:\n",
    "    law = laws.get(law_binding['LawID'])\n",
    "    if law:\n",
    "        law.setdefault('law_bindings', []).append(law_binding)"
   ]
  },
  {
   "cell_type": "code",
   "execution_count": 16,
   "metadata": {},
   "outputs": [],
   "source": [
    "kns_israel_law_binding_rows = Flow(load('https://production.oknesset.org/pipelines/data/laws/kns_israel_law_binding/datapackage.json')).results()[0][0]"
   ]
  },
  {
   "cell_type": "code",
   "execution_count": 17,
   "metadata": {},
   "outputs": [
    {
     "name": "stdout",
     "output_type": "stream",
     "text": [
      "match: 353, no match: 0\n"
     ]
    }
   ],
   "source": [
    "match = 0\n",
    "no_match = 0\n",
    "for israel_law_binding in kns_israel_law_binding_rows:\n",
    "    israel_law = israel_laws.get(israel_law_binding['IsraelLawID'])\n",
    "    if israel_law:\n",
    "        match += 1\n",
    "        israel_law.setdefault('israel_law_bindings', []).append(israel_law_binding)\n",
    "    else:\n",
    "        no_match +=1\n",
    "print('match: {}, no match: {}'.format(match, no_match))        "
   ]
  },
  {
   "cell_type": "markdown",
   "metadata": {},
   "source": [
    "## Identify session bill/law type"
   ]
  },
  {
   "cell_type": "code",
   "execution_count": 18,
   "metadata": {},
   "outputs": [
    {
     "name": "stdout",
     "output_type": "stream",
     "text": [
      "mismatch laws: 1550, mismatch israel laws: 0\n"
     ]
    }
   ],
   "source": [
    "mismatch_laws = 0\n",
    "mismatch_israel_laws = 0\n",
    "for session in sessions_by_id.values():\n",
    "    session['bill_types'] = set()\n",
    "    session['bill_names'] = set()\n",
    "    session['law_names'] = set()\n",
    "    for item in session.get('items', []):\n",
    "        if item['ItemTypeID'] == 2:\n",
    "            bill = bills[item['ItemID']]\n",
    "            session['bill_types'].add(bill['SubTypeDesc'])\n",
    "            session['bill_names'].add(bill['Name'])\n",
    "        elif item['ItemTypeID'] in [6000,6001,6002]:\n",
    "            law = laws.get(int(item['ItemID']))\n",
    "            if law:\n",
    "                raise Exception(law)\n",
    "            else:\n",
    "                mismatch_laws += 1\n",
    "        elif item['ItemTypeID'] == 6003:\n",
    "            israel_law = israel_laws.get(int(item['ItemID']))\n",
    "            if israel_law:\n",
    "                raise Exception(israel_law)\n",
    "            else:\n",
    "                mismatch_israel_laws += 1\n",
    "print('mismatch laws: {}, mismatch israel laws: {}'.format(mismatch_laws, mismatch_israel_laws))"
   ]
  },
  {
   "cell_type": "markdown",
   "metadata": {},
   "source": [
    "## Generate detailed speaker parts datapackage"
   ]
  },
  {
   "cell_type": "code",
   "execution_count": 34,
   "metadata": {},
   "outputs": [
    {
     "name": "stderr",
     "output_type": "stream",
     "text": [
      "  % Total    % Received % Xferd  Average Speed   Time    Time     Time  Current\n",
      "                                 Dload  Upload   Total   Spent    Left  Speed\n",
      "100  5778  100  5778    0     0  11913      0 --:--:-- --:--:-- --:--:-- 11888\n",
      "  % Total    % Received % Xferd  Average Speed   Time    Time     Time  Current\n",
      "                                 Dload  Upload   Total   Spent    Left  Speed\n",
      "100  117M  100  117M    0     0  2744k      0  0:00:43  0:00:43 --:--:-- 4379k\n",
      "  % Total    % Received % Xferd  Average Speed   Time    Time     Time  Current\n",
      "                                 Dload  Upload   Total   Spent    Left  Speed\n",
      "100  483M  100  483M    0     0  2383k      0  0:03:27  0:03:27 --:--:-- 2091k\n"
     ]
    }
   ],
   "source": [
    "%%bash\n",
    "mkdir -p data/people_committees_meeting_speaker_stats\n",
    "curl -o data/people_committees_meeting_speaker_stats/datapackage.json https://production.oknesset.org/pipelines/data/people/committees/meeting-speaker-stats/datapackage.json\n",
    "curl -o data/people_committees_meeting_speaker_stats/kns_committeesession.csv https://production.oknesset.org/pipelines/data/people/committees/meeting-speaker-stats/kns_committeesession.csv\n",
    "curl -o data/people_committees_meeting_speaker_stats/speaker_stats.csv https://production.oknesset.org/pipelines/data/people/committees/meeting-speaker-stats/speaker_stats.csv"
   ]
  },
  {
   "cell_type": "markdown",
   "metadata": {},
   "source": [
    "## Prepare the data"
   ]
  },
  {
   "cell_type": "code",
   "execution_count": 53,
   "metadata": {},
   "outputs": [
    {
     "name": "stdout",
     "output_type": "stream",
     "text": [
      "speaker_stats:\n",
      "#        CommitteeSessionID  parts_crc32c      part_index  header                     body_length    body_num_words  part_category\n",
      "                   (number)  (string)            (number)  (string)                      (number)          (number)  (string)\n",
      "-----  --------------------  --------------  ------------  -----------------------  -------------  ----------------  ---------------\n",
      "1                    100017  EIzyDg==                   0                                     214                25\n",
      "2                    100017  EIzyDg==                   1  סדר היום                           129                20\n",
      "3                    100017  EIzyDg==                  10  דוד טל                             191                34  mk\n",
      "4                    100017  EIzyDg==                 100  אמנון כהן                           39                 9  chairperson\n",
      "5                    100017  EIzyDg==                 101  שאול שניידר                        156                31\n",
      "6                    100017  EIzyDg==                 102  אמנון כהן                           63                13  chairperson\n",
      "7                    100017  EIzyDg==                 103  שאול שניידר                        502               106\n",
      "8                    100017  EIzyDg==                 104  יאיר שילה                          515                91\n",
      "9                    100017  EIzyDg==                 105  אתי בנדלר                           47                 8  legal_advisor\n",
      "10                   100017  EIzyDg==                 106  יאיר שילה                          878               162\n",
      "11                   100017  EIzyDg==                 107  אמנון כהן                          265                51  chairperson\n",
      "12                   100017  EIzyDg==                 108  אמנון זכרוני                        57                12\n",
      "13                   100017  EIzyDg==                 109  אמנון כהן                          293                57  chairperson\n",
      "14                   100017  EIzyDg==                  11  אהוד רצאבי                         406                73  mk\n",
      "15                   100017  EIzyDg==                 110  שאול סוטניק                        358                60\n",
      "16                   100017  EIzyDg==                 111  לאה ורון                            16                 3\n",
      "17                   100017  EIzyDg==                 112  שאול סוטניק                        111                24\n",
      "18                   100017  EIzyDg==                 113  דוד טל                              35                 7  mk\n",
      "19                   100017  EIzyDg==                 114  שאול סוטניק                          3                 1\n",
      "20                   100017  EIzyDg==                 115  דוד טל                              42                 9  mk\n",
      "...\n",
      "100                  100017  EIzyDg==                 188  שרון זכרוני                         61                12\n",
      "101                  100017  EIzyDg==                 189  אתי בנדלר                           84                17  legal_advisor\n",
      "102                  100017  EIzyDg==                  19  אליעזר כהן                         601               117  mk\n",
      "103                  100017  EIzyDg==                 190  ברשותך, אדוני היושב ראש            273                46\n",
      "104                  100017  EIzyDg==                 191  אריאלה קלעי                         12                 2\n",
      "105                  100017  EIzyDg==                 192  אילן ליבוביץ                       352                63  mk\n",
      "106                  100017  EIzyDg==                 193  אתי בנדלר                           26                 6  legal_advisor\n",
      "107                  100017  EIzyDg==                 194  אילן ליבוביץ                       109                19  mk\n",
      "108                  100017  EIzyDg==                 195  אמנון כהן                           52                10  chairperson\n",
      "109                  100017  EIzyDg==                 196  אמנון זכרוני                        28                 5\n",
      "110                  100017  EIzyDg==                 197  אתי בנדלר                           50                 9  legal_advisor\n",
      "...\n",
      "1000                 100025  52BnMg==                 133  לאה ורון                            40                 7\n",
      "1001                 100025  52BnMg==                 134  אורלי סלע                           16                 3\n",
      "1002                 100025  52BnMg==                 135  לאה ורון                            54                10\n",
      "1003                 100025  52BnMg==                 136  מל פולישוק-בלוך                     25                 5\n",
      "1004                 100025  52BnMg==                 137  אורלי סלע                          114                21\n",
      "1005                 100025  52BnMg==                 138  יצחק וקנין                          93                16  chairperson\n",
      "1006                 100025  52BnMg==                 139  אורלי סלע                          144                27\n",
      "1007                 100025  52BnMg==                  14  מל פולישוק-בלוך                     81                19\n",
      "1008                 100025  52BnMg==                 140  שמרית שקד                           65                13  legal_advisor\n",
      "1009                 100025  52BnMg==                 141  אורלי סלע                           19                 4\n",
      "1010                 100025  52BnMg==                 142  אליעזר זנדברג                      944               166  mk\n",
      "...\n",
      "10000                100955  zM4rsg==                  14  רוני בר-און                        588               115  chairperson\n"
     ]
    },
    {
     "data": {
      "text/plain": [
       "(<datapackage.package.Package at 0x7f32668eb2b0>,\n",
       " {'count_of_rows': 10000,\n",
       "  'bytes': 515149,\n",
       "  'hash': '9644f20669fca6bab8bf0da353accacb',\n",
       "  'dataset_name': None})"
      ]
     },
     "execution_count": 53,
     "metadata": {},
     "output_type": "execute_result"
    }
   ],
   "source": [
    "from dataflows import dump_to_path, printer\n",
    "from datapackage import Package\n",
    "\n",
    "# change to False to work on the full data (takes a loooooong time)\n",
    "IS_SPEAKER_STATS_SAMPLE_DATA = True\n",
    "\n",
    "MAX_NUM_ROWS = 10000 if IS_SPEAKER_STATS_SAMPLE_DATA else 9999999999999999\n",
    "SPEAKER_STATS_DATAPACKAGE_PATH = 'data/people_committees_meeting_speaker_stats' + ('_sample' if IS_SPEAKER_STATS_SAMPLE_DATA else '')\n",
    "\n",
    "stats = defaultdict(int)\n",
    "\n",
    "def _get_sample(package):\n",
    "    package.pkg.remove_resource('kns_committeesession')\n",
    "    yield package.pkg\n",
    "    for resourcenum, resource in enumerate(package):\n",
    "        if resourcenum == 0:\n",
    "            for row in resource:\n",
    "                pass\n",
    "        else:\n",
    "            yield (row for rownum, row in enumerate(resource) if rownum < MAX_NUM_ROWS)\n",
    "\n",
    "Flow(\n",
    "    load('data/people_committees_meeting_speaker_stats/datapackage.json'),\n",
    "    _get_sample,\n",
    "    dump_to_path(SPEAKER_STATS_DATAPACKAGE_PATH),\n",
    "    printer()\n",
    ").process()"
   ]
  },
  {
   "cell_type": "code",
   "execution_count": 58,
   "metadata": {},
   "outputs": [
    {
     "data": {
      "text/plain": [
       "(<datapackage.package.Package at 0x7f32664c2588>,\n",
       " {'count_of_rows': 10000,\n",
       "  'bytes': 515149,\n",
       "  'hash': '9644f20669fca6bab8bf0da353accacb',\n",
       "  'dataset_name': None})"
      ]
     },
     "execution_count": 58,
     "metadata": {},
     "output_type": "execute_result"
    }
   ],
   "source": [
    "from dataflows import dump_to_path, printer, set_type, sort_rows\n",
    "import csv\n",
    "import os\n",
    "\n",
    "stats = defaultdict(int)\n",
    "\n",
    "def _add_detailed_speaker_parts_fields_to_schema(package):\n",
    "    package.pkg.resources[0].descriptor['schema']['fields'] += [\n",
    "        {\n",
    "            'name': 'KnessetNum',\n",
    "            'type': 'number'\n",
    "        },\n",
    "        {\n",
    "            'name': 'StartDate',\n",
    "            'type': 'date'\n",
    "        },\n",
    "        {\n",
    "            'name': 'CommitteeID',\n",
    "            'type': 'number'\n",
    "        },\n",
    "        {\n",
    "            'name': 'committee_name',\n",
    "            'type': 'string'\n",
    "        },\n",
    "        {\n",
    "            'name': 'bill_types',\n",
    "            'type': 'string'\n",
    "        },\n",
    "        {\n",
    "            'name': 'bill_names',\n",
    "            'type': 'string'\n",
    "        },\n",
    "        {\n",
    "            'name': 'topics',\n",
    "            'type': 'string'\n",
    "        },\n",
    "        {\n",
    "            'name': 'Note',\n",
    "            'type': 'string'\n",
    "        }\n",
    "    ]\n",
    "    yield package.pkg\n",
    "    yield from package\n",
    "\n",
    "def _process_speaker_stats_rows(rows):\n",
    "    for part_row_num, part_row in enumerate(rows):\n",
    "        stats['last_row_num'] = part_row_num\n",
    "        stats['total_parts'] += 1\n",
    "        stats['total_body_length'] += part_row['body_length'] if part_row['body_length'] else 0\n",
    "        stats['total_headers_length'] += len(part_row['header']) if part_row['header'] else 0\n",
    "        stats['total_body_words'] += part_row['body_num_words']\n",
    "        session = sessions_by_id.get(part_row['CommitteeSessionID'])\n",
    "        if session:\n",
    "            part_row['KnessetNum'] = session['KnessetNum']\n",
    "            part_row['StartDate'] = session['StartDate']\n",
    "            part_row['CommitteeID'] = session['CommitteeID']\n",
    "            part_row['committee_name'] = session['committee_name']\n",
    "            part_row['bill_types'] = ','.join(session['bill_types']) if session['bill_types'] else ''\n",
    "            part_row['bill_names'] = ','.join(session['bill_names']) if session['bill_names'] else ''\n",
    "            part_row['topics'] = ','.join(session['topics']) if session['topics'] else ''\n",
    "            part_row['Note'] = session['Note']\n",
    "        else:\n",
    "            print('missing session: ' + str(part_row['CommitteeSessionID']))\n",
    "            part_row['KnessetNum'] = 0\n",
    "            part_row['StartDate'] = None\n",
    "            part_row['CommitteeID'] = 0\n",
    "            part_row['committee_name'] = ''\n",
    "            part_row['bill_types'] = ''\n",
    "            part_row['bill_names'] = ''\n",
    "            part_row['topics'] = ''\n",
    "            part_row['Note'] = ''\n",
    "        yield part_row\n",
    "\n",
    "def _dump_session_rows(session_id, part_rows):\n",
    "    if session_id:\n",
    "        session = sessions_by_id.get(part_row['CommitteeSessionID'])\n",
    "        if session:\n",
    "            dirname = 'data/detailed_speaker_stats/{}/{}/'.format(session['KnessetNum'], session['committee_name'])\n",
    "            os.makedirs(dirname)\n",
    "            is_first = os.path.exists(dirname+'')\n",
    "            with open('eggs.csv', 'w', newline='') as csvfile:\n",
    "                spamwriter = csv.writer(csvfile, delimiter=' ',\n",
    "                                        quotechar='|', quoting=csv.QUOTE_MINIMAL)\n",
    "                spamwriter.writerow(['Spam'] * 5 + ['Baked Beans'])\n",
    "                spamwriter.writerow(['Spam', 'Lovely Spam', 'Wonderful Spam'])\n",
    "        else:\n",
    "            print('missing session: ' + str(session_id))\n",
    "        \n",
    "def _dump_detailed_speaker_parts(rows):\n",
    "    current_session_id = None\n",
    "    current_session_rows = None\n",
    "    \n",
    "    for row in rows:\n",
    "        if row['CommitteeSessionID'] != current_session_id:\n",
    "            if current_session_id:\n",
    "                _dump_session_rows(current_session_id, current_session_rows)\n",
    "            current_session_id = row['CommitteeSessionID']\n",
    "        \n",
    "        \n",
    "Flow(\n",
    "    load(SPEAKER_STATS_DATAPACKAGE_PATH + '/datapackage.json'),\n",
    "    _dump_detailed_speaker_parts\n",
    ").process()\n",
    "\n",
    "# display(HTML('{}'.format(tabulate.tabulate([dict(stats)], tablefmt='html', headers='keys'))))"
   ]
  },
  {
   "cell_type": "markdown",
   "metadata": {},
   "source": [
    "## Generate Detailed speakers data"
   ]
  },
  {
   "cell_type": "code",
   "execution_count": null,
   "metadata": {},
   "outputs": [],
   "source": []
  },
  {
   "cell_type": "markdown",
   "metadata": {},
   "source": [
    "## Generate aggregate data per knesset"
   ]
  },
  {
   "cell_type": "code",
   "execution_count": 129,
   "metadata": {},
   "outputs": [
    {
     "data": {
      "text/html": [
       "<table>\n",
       "<thead>\n",
       "<tr><th style=\"text-align: right;\">  KnessetNum</th><th style=\"text-align: right;\">  total_sessions</th><th style=\"text-align: right;\">  has_text_protocol</th><th style=\"text-align: right;\">  related_to_bill</th><th style=\"text-align: right;\">  related_to_law</th></tr>\n",
       "</thead>\n",
       "<tbody>\n",
       "<tr><td style=\"text-align: right;\">          15</td><td style=\"text-align: right;\">            4694</td><td style=\"text-align: right;\">               4441</td><td style=\"text-align: right;\">                5</td><td style=\"text-align: right;\">               0</td></tr>\n",
       "<tr><td style=\"text-align: right;\">          18</td><td style=\"text-align: right;\">            8669</td><td style=\"text-align: right;\">               7316</td><td style=\"text-align: right;\">             2706</td><td style=\"text-align: right;\">               0</td></tr>\n",
       "<tr><td style=\"text-align: right;\">          16</td><td style=\"text-align: right;\">            7251</td><td style=\"text-align: right;\">               4119</td><td style=\"text-align: right;\">             1884</td><td style=\"text-align: right;\">               0</td></tr>\n",
       "<tr><td style=\"text-align: right;\">          17</td><td style=\"text-align: right;\">            6904</td><td style=\"text-align: right;\">               5632</td><td style=\"text-align: right;\">             2286</td><td style=\"text-align: right;\">               0</td></tr>\n",
       "<tr><td style=\"text-align: right;\">          19</td><td style=\"text-align: right;\">            4130</td><td style=\"text-align: right;\">               3404</td><td style=\"text-align: right;\">             1270</td><td style=\"text-align: right;\">               0</td></tr>\n",
       "<tr><td style=\"text-align: right;\">           1</td><td style=\"text-align: right;\">             917</td><td style=\"text-align: right;\">                  0</td><td style=\"text-align: right;\">               50</td><td style=\"text-align: right;\">               0</td></tr>\n",
       "<tr><td style=\"text-align: right;\">           2</td><td style=\"text-align: right;\">            1736</td><td style=\"text-align: right;\">                  0</td><td style=\"text-align: right;\">               16</td><td style=\"text-align: right;\">               0</td></tr>\n",
       "<tr><td style=\"text-align: right;\">           3</td><td style=\"text-align: right;\">            1682</td><td style=\"text-align: right;\">                  0</td><td style=\"text-align: right;\">                0</td><td style=\"text-align: right;\">               0</td></tr>\n",
       "<tr><td style=\"text-align: right;\">           4</td><td style=\"text-align: right;\">             757</td><td style=\"text-align: right;\">                  0</td><td style=\"text-align: right;\">                3</td><td style=\"text-align: right;\">               0</td></tr>\n",
       "<tr><td style=\"text-align: right;\">           5</td><td style=\"text-align: right;\">            1974</td><td style=\"text-align: right;\">                  0</td><td style=\"text-align: right;\">                0</td><td style=\"text-align: right;\">               0</td></tr>\n",
       "<tr><td style=\"text-align: right;\">           6</td><td style=\"text-align: right;\">            1739</td><td style=\"text-align: right;\">                  0</td><td style=\"text-align: right;\">                0</td><td style=\"text-align: right;\">               0</td></tr>\n",
       "<tr><td style=\"text-align: right;\">           7</td><td style=\"text-align: right;\">            2454</td><td style=\"text-align: right;\">                  0</td><td style=\"text-align: right;\">                5</td><td style=\"text-align: right;\">               0</td></tr>\n",
       "<tr><td style=\"text-align: right;\">           8</td><td style=\"text-align: right;\">            2840</td><td style=\"text-align: right;\">                  0</td><td style=\"text-align: right;\">                3</td><td style=\"text-align: right;\">               0</td></tr>\n",
       "<tr><td style=\"text-align: right;\">           9</td><td style=\"text-align: right;\">            2947</td><td style=\"text-align: right;\">                  0</td><td style=\"text-align: right;\">                6</td><td style=\"text-align: right;\">               0</td></tr>\n",
       "<tr><td style=\"text-align: right;\">          10</td><td style=\"text-align: right;\">            2363</td><td style=\"text-align: right;\">                  0</td><td style=\"text-align: right;\">                3</td><td style=\"text-align: right;\">               0</td></tr>\n",
       "<tr><td style=\"text-align: right;\">          11</td><td style=\"text-align: right;\">            3092</td><td style=\"text-align: right;\">               3091</td><td style=\"text-align: right;\">               11</td><td style=\"text-align: right;\">               0</td></tr>\n",
       "<tr><td style=\"text-align: right;\">          12</td><td style=\"text-align: right;\">            3104</td><td style=\"text-align: right;\">               3087</td><td style=\"text-align: right;\">                1</td><td style=\"text-align: right;\">               0</td></tr>\n",
       "<tr><td style=\"text-align: right;\">          13</td><td style=\"text-align: right;\">            3709</td><td style=\"text-align: right;\">               3673</td><td style=\"text-align: right;\">                0</td><td style=\"text-align: right;\">               0</td></tr>\n",
       "<tr><td style=\"text-align: right;\">          14</td><td style=\"text-align: right;\">            3068</td><td style=\"text-align: right;\">               3009</td><td style=\"text-align: right;\">                0</td><td style=\"text-align: right;\">               0</td></tr>\n",
       "<tr><td style=\"text-align: right;\">          20</td><td style=\"text-align: right;\">           10263</td><td style=\"text-align: right;\">               8811</td><td style=\"text-align: right;\">             3208</td><td style=\"text-align: right;\">            1208</td></tr>\n",
       "<tr><td style=\"text-align: right;\">          21</td><td style=\"text-align: right;\">             112</td><td style=\"text-align: right;\">                 79</td><td style=\"text-align: right;\">               19</td><td style=\"text-align: right;\">              15</td></tr>\n",
       "<tr><td style=\"text-align: right;\">          22</td><td style=\"text-align: right;\">              23</td><td style=\"text-align: right;\">                  0</td><td style=\"text-align: right;\">                0</td><td style=\"text-align: right;\">               5</td></tr>\n",
       "</tbody>\n",
       "</table>"
      ],
      "text/plain": [
       "<IPython.core.display.HTML object>"
      ]
     },
     "metadata": {},
     "output_type": "display_data"
    }
   ],
   "source": [
    "from dataflows import dump_to_path\n",
    "\n",
    "knessets = {}\n",
    "\n",
    "# aggregate number of sessions with given bool value in sessions data\n",
    "\n",
    "bool_fields = [\n",
    "    # 'has_downloaded_protocol',\n",
    "    # 'has_parts_protocol',\n",
    "    'has_text_protocol',\n",
    "    # 'has mks',\n",
    "    # 'has manager',\n",
    "    # 'has invitees',\n",
    "    # 'has attended_mk_individual_ids',\n",
    "    'related_to_bill',\n",
    "    'related_to_law',\n",
    "]\n",
    "\n",
    "for session in sessions_by_id.values():\n",
    "    knesset = knessets.setdefault(session['KnessetNum'], {'KnessetNum': session['KnessetNum']})\n",
    "    knesset[\"total_sessions\"] = knesset.get(\"total_sessions\", 0) + 1\n",
    "    for field in bool_fields:\n",
    "        cur_value = knesset.setdefault(field, 0)\n",
    "        if session[field]:\n",
    "            knesset[field] = cur_value+1         \n",
    "\n",
    "display(HTML('{}'.format(tabulate.tabulate([dict(knesset) for knesset in knessets.values()], tablefmt='html', headers='keys'))))"
   ]
  },
  {
   "cell_type": "code",
   "execution_count": 151,
   "metadata": {},
   "outputs": [
    {
     "data": {
      "text/html": [
       "<table>\n",
       "<thead>\n",
       "<tr><th style=\"text-align: right;\">  KnessetNum</th><th style=\"text-align: right;\">  total_sessions</th><th style=\"text-align: right;\">  has_text_protocol</th><th style=\"text-align: right;\">  related_to_bill</th><th style=\"text-align: right;\">  related_to_law</th><th style=\"text-align: right;\">  average number of bill names per meeting (which has protocol text)</th><th style=\"text-align: right;\">  total bill names</th></tr>\n",
       "</thead>\n",
       "<tbody>\n",
       "<tr><td style=\"text-align: right;\">          13</td><td style=\"text-align: right;\">            3709</td><td style=\"text-align: right;\">               3673</td><td style=\"text-align: right;\">                0</td><td style=\"text-align: right;\">               0</td><td style=\"text-align: right;\">                                                          0         </td><td style=\"text-align: right;\">                 0</td></tr>\n",
       "<tr><td style=\"text-align: right;\">          14</td><td style=\"text-align: right;\">            3068</td><td style=\"text-align: right;\">               3009</td><td style=\"text-align: right;\">                0</td><td style=\"text-align: right;\">               0</td><td style=\"text-align: right;\">                                                          0         </td><td style=\"text-align: right;\">                 0</td></tr>\n",
       "<tr><td style=\"text-align: right;\">          15</td><td style=\"text-align: right;\">            4694</td><td style=\"text-align: right;\">               4441</td><td style=\"text-align: right;\">                5</td><td style=\"text-align: right;\">               0</td><td style=\"text-align: right;\">                                                          0.00135105</td><td style=\"text-align: right;\">                 6</td></tr>\n",
       "<tr><td style=\"text-align: right;\">          16</td><td style=\"text-align: right;\">            7251</td><td style=\"text-align: right;\">               4119</td><td style=\"text-align: right;\">             1884</td><td style=\"text-align: right;\">               0</td><td style=\"text-align: right;\">                                                          0.61277   </td><td style=\"text-align: right;\">              2524</td></tr>\n",
       "<tr><td style=\"text-align: right;\">          17</td><td style=\"text-align: right;\">            6904</td><td style=\"text-align: right;\">               5632</td><td style=\"text-align: right;\">             2286</td><td style=\"text-align: right;\">               0</td><td style=\"text-align: right;\">                                                          0.533558  </td><td style=\"text-align: right;\">              3005</td></tr>\n",
       "<tr><td style=\"text-align: right;\">          18</td><td style=\"text-align: right;\">            8669</td><td style=\"text-align: right;\">               7316</td><td style=\"text-align: right;\">             2706</td><td style=\"text-align: right;\">               0</td><td style=\"text-align: right;\">                                                          0.435484  </td><td style=\"text-align: right;\">              3186</td></tr>\n",
       "<tr><td style=\"text-align: right;\">          19</td><td style=\"text-align: right;\">            4130</td><td style=\"text-align: right;\">               3404</td><td style=\"text-align: right;\">             1270</td><td style=\"text-align: right;\">               0</td><td style=\"text-align: right;\">                                                          0.469448  </td><td style=\"text-align: right;\">              1598</td></tr>\n",
       "<tr><td style=\"text-align: right;\">          20</td><td style=\"text-align: right;\">           10263</td><td style=\"text-align: right;\">               8811</td><td style=\"text-align: right;\">             3208</td><td style=\"text-align: right;\">            1208</td><td style=\"text-align: right;\">                                                          0.466235  </td><td style=\"text-align: right;\">              4108</td></tr>\n",
       "<tr><td style=\"text-align: right;\">          21</td><td style=\"text-align: right;\">             112</td><td style=\"text-align: right;\">                 79</td><td style=\"text-align: right;\">               19</td><td style=\"text-align: right;\">              15</td><td style=\"text-align: right;\">                                                          0.240506  </td><td style=\"text-align: right;\">                19</td></tr>\n",
       "</tbody>\n",
       "</table>"
      ],
      "text/plain": [
       "<IPython.core.display.HTML object>"
      ]
     },
     "metadata": {},
     "output_type": "display_data"
    }
   ],
   "source": [
    "## aggregate has_bill / has_law\n",
    "\n",
    "for knesset in knessets.values():\n",
    "    knesset['total bill names'] = 0\n",
    "\n",
    "for session in sessions_by_id.values():\n",
    "    knesset = knessets[session['KnessetNum']]\n",
    "    for bill_name in session.get('bill_names', set()):\n",
    "        knesset['total bill names'] += 1\n",
    "\n",
    "average_num_bill_names = 'average number of bill names per meeting (which has protocol text)'\n",
    "        \n",
    "for knesset in knessets.values():\n",
    "    if knesset['has_text_protocol'] > 0:\n",
    "        knesset[average_num_bill_names] = knesset['total bill names'] / knesset['has_text_protocol'] \n",
    "    else:\n",
    "        knesset[average_num_bill_names] = 0\n",
    "\n",
    "knesset_rows = [knessets[knesset_num] for knesset_num in [13,14,15,16,17,18,19,20,21]]\n",
    "display(HTML('{}'.format(tabulate.tabulate(knesset_rows, tablefmt='html', headers='keys'))))"
   ]
  },
  {
   "cell_type": "code",
   "execution_count": 159,
   "metadata": {},
   "outputs": [
    {
     "data": {
      "text/html": [
       "<table>\n",
       "<thead>\n",
       "<tr><th style=\"text-align: right;\">  KnessetNum</th><th style=\"text-align: right;\">  total_sessions</th><th style=\"text-align: right;\">  related_to_bill</th><th style=\"text-align: right;\">  average number of bill names per meeting (which has protocol text)</th><th style=\"text-align: right;\">  number of protocol parts</th><th style=\"text-align: right;\">  average number of protocol parts per meeting</th><th style=\"text-align: right;\">  average number of protocol parts per meeting which has a part category</th><th style=\"text-align: right;\">  average body length per meeting (not including header)</th></tr>\n",
       "</thead>\n",
       "<tbody>\n",
       "<tr><td style=\"text-align: right;\">          13</td><td style=\"text-align: right;\">            3709</td><td style=\"text-align: right;\">                0</td><td style=\"text-align: right;\">                                                          0         </td><td style=\"text-align: right;\">                    336063</td><td style=\"text-align: right;\">                                            90</td><td style=\"text-align: right;\">                                                                       0</td><td style=\"text-align: right;\">                                                   41462</td></tr>\n",
       "<tr><td style=\"text-align: right;\">          14</td><td style=\"text-align: right;\">            3068</td><td style=\"text-align: right;\">                0</td><td style=\"text-align: right;\">                                                          0         </td><td style=\"text-align: right;\">                    333070</td><td style=\"text-align: right;\">                                           108</td><td style=\"text-align: right;\">                                                                       0</td><td style=\"text-align: right;\">                                                   36690</td></tr>\n",
       "<tr><td style=\"text-align: right;\">          15</td><td style=\"text-align: right;\">            4694</td><td style=\"text-align: right;\">                5</td><td style=\"text-align: right;\">                                                          0.00135105</td><td style=\"text-align: right;\">                    841970</td><td style=\"text-align: right;\">                                           179</td><td style=\"text-align: right;\">                                                                       0</td><td style=\"text-align: right;\">                                                   34390</td></tr>\n",
       "<tr><td style=\"text-align: right;\">          16</td><td style=\"text-align: right;\">            7251</td><td style=\"text-align: right;\">             1884</td><td style=\"text-align: right;\">                                                          0.61277   </td><td style=\"text-align: right;\">                   1035437</td><td style=\"text-align: right;\">                                           142</td><td style=\"text-align: right;\">                                                                       0</td><td style=\"text-align: right;\">                                                   27193</td></tr>\n",
       "<tr><td style=\"text-align: right;\">          17</td><td style=\"text-align: right;\">            6904</td><td style=\"text-align: right;\">             2286</td><td style=\"text-align: right;\">                                                          0.533558  </td><td style=\"text-align: right;\">                   1269979</td><td style=\"text-align: right;\">                                           183</td><td style=\"text-align: right;\">                                                                       0</td><td style=\"text-align: right;\">                                                   35910</td></tr>\n",
       "<tr><td style=\"text-align: right;\">          18</td><td style=\"text-align: right;\">            8669</td><td style=\"text-align: right;\">             2706</td><td style=\"text-align: right;\">                                                          0.435484  </td><td style=\"text-align: right;\">                   1196528</td><td style=\"text-align: right;\">                                           138</td><td style=\"text-align: right;\">                                                                       0</td><td style=\"text-align: right;\">                                                   33748</td></tr>\n",
       "<tr><td style=\"text-align: right;\">          19</td><td style=\"text-align: right;\">            4130</td><td style=\"text-align: right;\">             1270</td><td style=\"text-align: right;\">                                                          0.469448  </td><td style=\"text-align: right;\">                     77891</td><td style=\"text-align: right;\">                                            18</td><td style=\"text-align: right;\">                                                                       0</td><td style=\"text-align: right;\">                                                   40616</td></tr>\n",
       "<tr><td style=\"text-align: right;\">          20</td><td style=\"text-align: right;\">           10263</td><td style=\"text-align: right;\">             3208</td><td style=\"text-align: right;\">                                                          0.466235  </td><td style=\"text-align: right;\">                   3510975</td><td style=\"text-align: right;\">                                           342</td><td style=\"text-align: right;\">                                                                       0</td><td style=\"text-align: right;\">                                                   50529</td></tr>\n",
       "<tr><td style=\"text-align: right;\">          21</td><td style=\"text-align: right;\">             112</td><td style=\"text-align: right;\">               19</td><td style=\"text-align: right;\">                                                          0.240506  </td><td style=\"text-align: right;\">                     22302</td><td style=\"text-align: right;\">                                           199</td><td style=\"text-align: right;\">                                                                       0</td><td style=\"text-align: right;\">                                                   24429</td></tr>\n",
       "</tbody>\n",
       "</table>"
      ],
      "text/plain": [
       "<IPython.core.display.HTML object>"
      ]
     },
     "metadata": {},
     "output_type": "display_data"
    }
   ],
   "source": [
    "# aggregate protocol parts data per knesset\n",
    "\n",
    "for knesset in knessets.values():\n",
    "    knesset['number of protocol parts'] = 0\n",
    "    knesset['total protocol part bodies length'] = 0\n",
    "    knesset['num sessions with parts'] = 0\n",
    "    knesset['num_parts_with_part_category'] = 0\n",
    "\n",
    "for session in sessions_by_id.values():\n",
    "    knesset = knessets[session['KnessetNum']]\n",
    "    if len(session.get('parts', [])) > 2:\n",
    "        knesset['num sessions with parts'] += 1\n",
    "    num_parts_with_part_category = 0\n",
    "    for part in session.get('parts', []):\n",
    "        knesset['number of protocol parts'] += 1\n",
    "        knesset['total protocol part bodies length'] += part['body_length']\n",
    "        if part['part_category'] and part['part_category'] != '':\n",
    "            knesset['num_parts_with_part_category'] += 1\n",
    "    \n",
    "for knesset_num, knesset in knessets.items():\n",
    "    knesset['average_protocol_parts'] = int(knesset['number of protocol parts'] / knesset['total_sessions'])\n",
    "    knesset['average_body_length'] = int(knesset['total protocol part bodies length'] / knesset['total_sessions'])\n",
    "    knesset['average_num_parts_with_part_category'] = int(knesset['num_parts_with_part_category'] / knesset['total_sessions'])\n",
    "\n",
    "knesset_rows = [\n",
    "    {\n",
    "        **{k: v for k, v in knessets[knesset_num].items() if k in [\n",
    "            'KnessetNum',\n",
    "            'total_sessions',\n",
    "            'related_to_bill',\n",
    "            'average number of bill names per meeting (which has protocol text)',\n",
    "            'number of protocol parts',\n",
    "        ]},\n",
    "        'average number of protocol parts per meeting': knessets[knesset_num]['average_protocol_parts'],\n",
    "        'average number of protocol parts per meeting which has a part category': knessets[knesset_num]['average_num_parts_with_part_category'],\n",
    "        'average body length per meeting (not including header)': knessets[knesset_num]['average_body_length'],\n",
    "    } for knesset_num in [13,14,15,16,17,18,19,20,21]\n",
    "]\n",
    "display(HTML('{}'.format(tabulate.tabulate(knesset_rows, tablefmt='html', headers='keys'))))"
   ]
  }
 ],
 "metadata": {
  "kernelspec": {
   "display_name": "Python 3",
   "language": "python",
   "name": "python3"
  },
  "language_info": {
   "codemirror_mode": {
    "name": "ipython",
    "version": 3
   },
   "file_extension": ".py",
   "mimetype": "text/x-python",
   "name": "python",
   "nbconvert_exporter": "python",
   "pygments_lexer": "ipython3",
   "version": "3.6.6"
  }
 },
 "nbformat": 4,
 "nbformat_minor": 2
}
