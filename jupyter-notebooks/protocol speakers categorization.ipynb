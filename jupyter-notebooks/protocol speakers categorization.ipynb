{
 "cells": [
  {
   "cell_type": "markdown",
   "metadata": {},
   "source": [
    "# Protocol speakers categorization"
   ]
  },
  {
   "cell_type": "code",
   "execution_count": 1,
   "metadata": {},
   "outputs": [
    {
     "name": "stdout",
     "output_type": "stream",
     "text": [
      "\n",
      "\n",
      "\n",
      "###############################\n",
      "LAST UPDATE: 27/10/2019\n",
      "###############################\n",
      "\n",
      "\n",
      "\n"
     ]
    }
   ],
   "source": [
    "import datetime\n",
    "update_tag = datetime.datetime.now().strftime('%Y-%m-%d %H %M')\n",
    "print('\\n\\n\\n###############################\\nLAST UPDATE: {}\\n###############################\\n\\n\\n'.format(datetime.datetime.now().strftime('%d/%m/%Y')))"
   ]
  },
  {
   "cell_type": "markdown",
   "metadata": {},
   "source": [
    "## Load the basic committee sessions data to memory"
   ]
  },
  {
   "cell_type": "code",
   "execution_count": 2,
   "metadata": {},
   "outputs": [],
   "source": [
    "from dataflows import Flow, load\n",
    "\n",
    "committee_sessions_data = Flow(\n",
    "    load('https://production.oknesset.org/pipelines/data/committees/kns_committeesession/datapackage.json'),\n",
    "    load('https://production.oknesset.org/pipelines/data/committees/kns_cmtsessionitem/datapackage.json'),\n",
    "    load('https://production.oknesset.org/pipelines/data/knesset/kns_itemtype/datapackage.json')\n",
    ").results()"
   ]
  },
  {
   "cell_type": "code",
   "execution_count": 6,
   "metadata": {},
   "outputs": [],
   "source": [
    "kns_committeesession_rows = committee_sessions_data[0][0]\n",
    "kns_cmtsessionitem_rows = committee_sessions_data[0][1]\n",
    "kns_itemtype_rows = committee_sessions_data[0][2]"
   ]
  },
  {
   "cell_type": "code",
   "execution_count": 7,
   "metadata": {},
   "outputs": [
    {
     "data": {
      "text/html": [
       "<h2>kns_committeesession</h2><br/><table>\n",
       "<thead>\n",
       "<tr><th style=\"text-align: right;\">  CommitteeSessionID</th><th>Number  </th><th style=\"text-align: right;\">  KnessetNum</th><th style=\"text-align: right;\">  TypeID</th><th>TypeDesc  </th><th style=\"text-align: right;\">  CommitteeID</th><th>Location                                         </th><th>SessionUrl                                                                                       </th><th>BroadcastUrl  </th><th>StartDate          </th><th>FinishDate  </th><th>Note  </th><th>LastUpdatedDate    </th><th>download_crc32c  </th><th>download_filename  </th><th>download_filesize  </th><th>parts_crc32c  </th><th>parts_filesize  </th><th>parts_parsed_filename  </th><th>text_crc32c  </th><th>text_filesize  </th><th>text_parsed_filename  </th><th>topics                                            </th><th>committee_name       </th></tr>\n",
       "</thead>\n",
       "<tbody>\n",
       "<tr><td style=\"text-align: right;\">               64990</td><td>        </td><td style=\"text-align: right;\">          15</td><td style=\"text-align: right;\">     161</td><td>פתוחה     </td><td style=\"text-align: right;\">           25</td><td>חדר הוועדה, באגף קדמה, קומה 1, חדר 1720          </td><td>http://main.knesset.gov.il/Activity/committees/Pages/AllCommitteesAgenda.aspx?Tab=3&ItemID=64990 </td><td>              </td><td>2002-06-12 09:00:00</td><td>            </td><td>      </td><td>2011-04-12 05:28:59</td><td>                 </td><td>                   </td><td>                   </td><td>              </td><td>                </td><td>                       </td><td>             </td><td>               </td><td>                      </td><td>['חוק הבחירות לכנסת (תיקון מס\\' 52), התשס\"ד-2004']</td><td>החוקה, חוק ומשפט     </td></tr>\n",
       "<tr><td style=\"text-align: right;\">              470756</td><td>        </td><td style=\"text-align: right;\">          18</td><td style=\"text-align: right;\">     161</td><td>פתוחה     </td><td style=\"text-align: right;\">          661</td><td>חדר הוועדה, באגף הוועדות (קדמה), קומה 2, חדר 2740</td><td>http://main.knesset.gov.il/Activity/committees/Pages/AllCommitteesAgenda.aspx?Tab=3&ItemID=470756</td><td>              </td><td>2012-06-06 09:30:00</td><td>            </td><td>      </td><td>2012-09-19 15:27:32</td><td>                 </td><td>                   </td><td>                   </td><td>              </td><td>                </td><td>                       </td><td>             </td><td>               </td><td>                      </td><td>['דו\"ח מבקר המדינה על ההתמודדות עם המשט הטורקי '] </td><td>לענייני ביקורת המדינה</td></tr>\n",
       "</tbody>\n",
       "</table>"
      ],
      "text/plain": [
       "<IPython.core.display.HTML object>"
      ]
     },
     "metadata": {},
     "output_type": "display_data"
    },
    {
     "data": {
      "text/html": [
       "<h2>kns_cmtsessionitem_rows</h2><br/><table>\n",
       "<thead>\n",
       "<tr><th style=\"text-align: right;\">  CmtSessionItemID</th><th style=\"text-align: right;\">  ItemID</th><th style=\"text-align: right;\">  CommitteeSessionID</th><th style=\"text-align: right;\">  Ordinal</th><th>StatusID  </th><th>Name                                                                                       </th><th style=\"text-align: right;\">  ItemTypeID</th><th>LastUpdatedDate    </th></tr>\n",
       "</thead>\n",
       "<tbody>\n",
       "<tr><td style=\"text-align: right;\">             29859</td><td style=\"text-align: right;\">   74042</td><td style=\"text-align: right;\">               66076</td><td style=\"text-align: right;\">         </td><td>          </td><td>מסגרות להשמה חוץ ביתית לילדים בסיכון - סקירה                                               </td><td style=\"text-align: right;\">          11</td><td>2012-09-20 22:23:47</td></tr>\n",
       "<tr><td style=\"text-align: right;\">             29860</td><td style=\"text-align: right;\">   73194</td><td style=\"text-align: right;\">               66077</td><td style=\"text-align: right;\">       10</td><td>          </td><td>הפרסום בעיתון מעריב על שעות העבודה הרבות של נהגי \"אגד\" - דיון מהיר בהצעתה של ח\"כ אורית נוקד</td><td style=\"text-align: right;\">          11</td><td>2012-09-20 22:23:47</td></tr>\n",
       "</tbody>\n",
       "</table>"
      ],
      "text/plain": [
       "<IPython.core.display.HTML object>"
      ]
     },
     "metadata": {},
     "output_type": "display_data"
    },
    {
     "data": {
      "text/html": [
       "<h2>kns_itemtype_rows</h2><br/><table>\n",
       "<thead>\n",
       "<tr><th style=\"text-align: right;\">  ItemTypeID</th><th>Desc    </th><th>TableName  </th></tr>\n",
       "</thead>\n",
       "<tbody>\n",
       "<tr><td style=\"text-align: right;\">           1</td><td>שאילתה  </td><td>KNS_Query  </td></tr>\n",
       "<tr><td style=\"text-align: right;\">           2</td><td>הצעת חוק</td><td>KNS_Bill   </td></tr>\n",
       "</tbody>\n",
       "</table>"
      ],
      "text/plain": [
       "<IPython.core.display.HTML object>"
      ]
     },
     "metadata": {},
     "output_type": "display_data"
    }
   ],
   "source": [
    "from IPython.display import HTML, display\n",
    "import tabulate\n",
    "for title, rows in {\n",
    "    'kns_committeesession': kns_committeesession_rows, \n",
    "    'kns_cmtsessionitem_rows': kns_cmtsessionitem_rows, \n",
    "    'kns_itemtype_rows': kns_itemtype_rows\n",
    "}.items():\n",
    "    display(HTML('<h2>{}</h2><br/>{}'.format(title, tabulate.tabulate(rows[:2], tablefmt='html', headers='keys'))))"
   ]
  },
  {
   "cell_type": "code",
   "execution_count": 8,
   "metadata": {},
   "outputs": [
    {
     "data": {
      "text/html": [
       "<table>\n",
       "<thead>\n",
       "<tr><th style=\"text-align: right;\">  num sessions</th><th style=\"text-align: right;\">  num session items</th><th style=\"text-align: right;\">  num item types</th></tr>\n",
       "</thead>\n",
       "<tbody>\n",
       "<tr><td style=\"text-align: right;\">         74414</td><td style=\"text-align: right;\">              47608</td><td style=\"text-align: right;\">              10</td></tr>\n",
       "</tbody>\n",
       "</table>"
      ],
      "text/plain": [
       "<IPython.core.display.HTML object>"
      ]
     },
     "metadata": {},
     "output_type": "display_data"
    }
   ],
   "source": [
    "from collections import defaultdict\n",
    "\n",
    "stats = defaultdict(int)\n",
    "\n",
    "sessions_by_id = {}\n",
    "item_types_by_id = {}\n",
    "\n",
    "for row in kns_committeesession_rows:\n",
    "    sessions_by_id[row['CommitteeSessionID']] = row\n",
    "    stats['num sessions'] += 1\n",
    "\n",
    "for row in kns_cmtsessionitem_rows:\n",
    "    stats['num session items'] += 1\n",
    "    session_id = row['CommitteeSessionID']\n",
    "    session = sessions_by_id.get(session_id)\n",
    "    if session:\n",
    "        session.setdefault('items', []).append(row)\n",
    "    else:\n",
    "        stats['num session items without related session'] += 1\n",
    "\n",
    "for row in kns_itemtype_rows:\n",
    "    item_types_by_id[row['ItemTypeID']] = row\n",
    "    stats['num item types'] += 1\n",
    "\n",
    "display(HTML('{}'.format(tabulate.tabulate([dict(stats)], tablefmt='html', headers='keys'))))"
   ]
  },
  {
   "cell_type": "code",
   "execution_count": 9,
   "metadata": {},
   "outputs": [
    {
     "data": {
      "text/html": [
       "<table>\n",
       "<thead>\n",
       "<tr><th style=\"text-align: right;\">  ItemTypeID</th><th>Desc           </th><th>TableName          </th></tr>\n",
       "</thead>\n",
       "<tbody>\n",
       "<tr><td style=\"text-align: right;\">           1</td><td>שאילתה         </td><td>KNS_Query          </td></tr>\n",
       "<tr><td style=\"text-align: right;\">           2</td><td>הצעת חוק       </td><td>KNS_Bill           </td></tr>\n",
       "<tr><td style=\"text-align: right;\">           3</td><td>הצעת אי אמון   </td><td>                   </td></tr>\n",
       "<tr><td style=\"text-align: right;\">           4</td><td>הצעה לסדר היום </td><td>KNS_Agenda         </td></tr>\n",
       "<tr><td style=\"text-align: right;\">           5</td><td>ישיבת מליאה    </td><td>KNS_PlenumSession  </td></tr>\n",
       "<tr><td style=\"text-align: right;\">          12</td><td>ישיבת ועדה     </td><td>KNS_CommitteSession</td></tr>\n",
       "<tr><td style=\"text-align: right;\">        6000</td><td>פעולה על פי חוק</td><td>KNS_Law            </td></tr>\n",
       "<tr><td style=\"text-align: right;\">        6001</td><td>תיקון טעות     </td><td>KNS_Law            </td></tr>\n",
       "<tr><td style=\"text-align: right;\">        6002</td><td>חוק בן חיצוני  </td><td>KNS_Law            </td></tr>\n",
       "<tr><td style=\"text-align: right;\">        6003</td><td>חוק אב         </td><td>KNS_IsraelLaw      </td></tr>\n",
       "</tbody>\n",
       "</table>"
      ],
      "text/plain": [
       "<IPython.core.display.HTML object>"
      ]
     },
     "metadata": {},
     "output_type": "display_data"
    }
   ],
   "source": [
    "display(HTML('{}'.format(tabulate.tabulate(item_types_by_id.values(), tablefmt='html', headers='keys'))))"
   ]
  },
  {
   "cell_type": "markdown",
   "metadata": {},
   "source": [
    "## Relate sessions to bills/laws based on item types"
   ]
  },
  {
   "cell_type": "code",
   "execution_count": 10,
   "metadata": {},
   "outputs": [
    {
     "data": {
      "text/html": [
       "<table>\n",
       "<thead>\n",
       "<tr><th style=\"text-align: right;\">  num sessions</th><th style=\"text-align: right;\">  related to bill</th><th style=\"text-align: right;\">  unknown item type id 11/15</th><th style=\"text-align: right;\">  related to law</th><th style=\"text-align: right;\">  related to bill and law</th></tr>\n",
       "</thead>\n",
       "<tbody>\n",
       "<tr><td style=\"text-align: right;\">         74414</td><td style=\"text-align: right;\">            11448</td><td style=\"text-align: right;\">                       26516</td><td style=\"text-align: right;\">            1198</td><td style=\"text-align: right;\">                       28</td></tr>\n",
       "</tbody>\n",
       "</table>"
      ],
      "text/plain": [
       "<IPython.core.display.HTML object>"
      ]
     },
     "metadata": {},
     "output_type": "display_data"
    }
   ],
   "source": [
    "stats = defaultdict(int)\n",
    "\n",
    "for session in sessions_by_id.values():\n",
    "    stats['num sessions'] += 1\n",
    "    session['related_to_bill'] = False\n",
    "    session['related_to_law'] = False\n",
    "    for item in session.get('items', []):\n",
    "        item_type_id = item['ItemTypeID']\n",
    "        item_type = item_types_by_id.get(item_type_id)\n",
    "        if item_type:\n",
    "            table_name = item_type['TableName']\n",
    "            if table_name in ['KNS_Law', 'KNS_IsraelLaw']:\n",
    "                session['related_to_law'] = True\n",
    "            elif table_name == 'KNS_Bill':\n",
    "                session['related_to_bill'] = True\n",
    "        else:\n",
    "            assert item_type_id in [11,15], item_type_id\n",
    "            stats['unknown item type id 11/15'] += 1\n",
    "    if session['related_to_bill'] and session['related_to_law']:\n",
    "        stats['related to bill and law'] += 1\n",
    "    elif session['related_to_bill']:\n",
    "        stats['related to bill'] += 1\n",
    "    elif session['related_to_law']:\n",
    "        stats['related to law'] += 1\n",
    "\n",
    "display(HTML('{}'.format(tabulate.tabulate([dict(stats)], tablefmt='html', headers='keys'))))"
   ]
  },
  {
   "cell_type": "markdown",
   "metadata": {},
   "source": [
    "## Mark sessions which have parts / text protocols"
   ]
  },
  {
   "cell_type": "code",
   "execution_count": 11,
   "metadata": {},
   "outputs": [
    {
     "data": {
      "text/html": [
       "<table>\n",
       "<thead>\n",
       "<tr><th style=\"text-align: right;\">  num sessions</th><th style=\"text-align: right;\">  has_downloaded_protocol</th><th style=\"text-align: right;\">  has_parts_protocol</th><th style=\"text-align: right;\">  has_text_protocol</th></tr>\n",
       "</thead>\n",
       "<tbody>\n",
       "<tr><td style=\"text-align: right;\">         74414</td><td style=\"text-align: right;\">                    46677</td><td style=\"text-align: right;\">               46651</td><td style=\"text-align: right;\">              46646</td></tr>\n",
       "</tbody>\n",
       "</table>"
      ],
      "text/plain": [
       "<IPython.core.display.HTML object>"
      ]
     },
     "metadata": {},
     "output_type": "display_data"
    }
   ],
   "source": [
    "stats = defaultdict(int)\n",
    "\n",
    "for session in sessions_by_id.values():\n",
    "    stats['num sessions'] += 1\n",
    "    session['has_downloaded_protocol'] = session['download_filesize'] and session['download_filesize'] > 100\n",
    "    session['has_parts_protocol'] = session['parts_filesize'] and session['parts_filesize'] > 100\n",
    "    session['has_text_protocol'] = session['text_filesize'] and session['text_filesize'] > 100\n",
    "    if session['has_downloaded_protocol']:\n",
    "        stats['has_downloaded_protocol'] += 1\n",
    "    if session['has_parts_protocol']:\n",
    "        stats['has_parts_protocol'] += 1\n",
    "    if session['has_text_protocol']:\n",
    "        stats['has_text_protocol'] += 1\n",
    "\n",
    "display(HTML('{}'.format(tabulate.tabulate([dict(stats)], tablefmt='html', headers='keys'))))"
   ]
  },
  {
   "cell_type": "markdown",
   "metadata": {},
   "source": [
    "## Load protocol attendees data"
   ]
  },
  {
   "cell_type": "code",
   "execution_count": 12,
   "metadata": {},
   "outputs": [
    {
     "data": {
      "text/html": [
       "<table>\n",
       "<thead>\n",
       "<tr><th style=\"text-align: right;\">  num sessions</th><th style=\"text-align: right;\">  valid session with attendees data</th></tr>\n",
       "</thead>\n",
       "<tbody>\n",
       "<tr><td style=\"text-align: right;\">         74414</td><td style=\"text-align: right;\">                              74414</td></tr>\n",
       "</tbody>\n",
       "</table>"
      ],
      "text/plain": [
       "<IPython.core.display.HTML object>"
      ]
     },
     "metadata": {},
     "output_type": "display_data"
    }
   ],
   "source": [
    "stats = defaultdict(int)\n",
    "\n",
    "def load_attendees(rows):\n",
    "    for row in rows:\n",
    "        yield row\n",
    "        stats['num sessions'] += 1\n",
    "        session = sessions_by_id.get(row['CommitteeSessionID'])\n",
    "        if session:\n",
    "            stats['valid session with attendees data'] += 1\n",
    "            session.update(\n",
    "                attended_mk_individual_ids=row['attended_mk_individual_ids'],\n",
    "                invitees=row['invitees'],\n",
    "                legal_advisors=row['legal_advisors'],\n",
    "                manager=row['manager'],\n",
    "                mks=row['mks'],\n",
    "                financial_advisors=row['financial_advisors']\n",
    "            )\n",
    "        else:\n",
    "            stats['invalid session, missing related session in sessions_by_id'] += 1\n",
    "\n",
    "Flow(\n",
    "    load('https://production.oknesset.org/pipelines/data/people/committees/meeting-attendees/datapackage.json'),\n",
    "    load_attendees\n",
    ").process()\n",
    "\n",
    "display(HTML('{}'.format(tabulate.tabulate([dict(stats)], tablefmt='html', headers='keys'))))"
   ]
  },
  {
   "cell_type": "markdown",
   "metadata": {},
   "source": [
    "## Mark sessions which have different attendee types"
   ]
  },
  {
   "cell_type": "code",
   "execution_count": 20,
   "metadata": {},
   "outputs": [
    {
     "data": {
      "text/html": [
       "<table>\n",
       "<thead>\n",
       "<tr><th style=\"text-align: right;\">  num sessions</th><th style=\"text-align: right;\">  has mks</th><th style=\"text-align: right;\">  has manager</th><th style=\"text-align: right;\">  has legal_advisors</th><th style=\"text-align: right;\">  has invitees</th><th style=\"text-align: right;\">  has attended_mk_individual_ids</th></tr>\n",
       "</thead>\n",
       "<tbody>\n",
       "<tr><td style=\"text-align: right;\">         74414</td><td style=\"text-align: right;\">    38653</td><td style=\"text-align: right;\">        33593</td><td style=\"text-align: right;\">               23548</td><td style=\"text-align: right;\">         38277</td><td style=\"text-align: right;\">                           35737</td></tr>\n",
       "</tbody>\n",
       "</table>"
      ],
      "text/plain": [
       "<IPython.core.display.HTML object>"
      ]
     },
     "metadata": {},
     "output_type": "display_data"
    }
   ],
   "source": [
    "stats = defaultdict(int)\n",
    "\n",
    "for session in sessions_by_id.values():\n",
    "    stats['num sessions'] += 1\n",
    "    for invitees_type in ['mks', 'manager', 'legal_advisors', 'invitees', 'attended_mk_individual_ids']:\n",
    "        session['has {}'.format(invitees_type)] = False\n",
    "        invitees = session.get(invitees_type)\n",
    "        if invitees and len(invitees) > 0:\n",
    "            session['has {}'.format(invitees_type)] = True\n",
    "            stats['has {}'.format(invitees_type)] += 1\n",
    "#     if session['has manager'] and session['has legal_advisors'] and session['has manager']:\n",
    "#     if session['text_parsed_filename'] and not session['has manager']:\n",
    "#         print(session)\n",
    "#         break\n",
    "            \n",
    "display(HTML('{}'.format(tabulate.tabulate([dict(stats)], tablefmt='html', headers='keys'))))"
   ]
  },
  {
   "cell_type": "markdown",
   "metadata": {},
   "source": [
    "## Aggregate speaker stats per session"
   ]
  },
  {
   "cell_type": "code",
   "execution_count": 4,
   "metadata": {},
   "outputs": [
    {
     "data": {
      "text/plain": [
       "(<datapackage.package.Package at 0x7f56cf93d748>, {})"
      ]
     },
     "execution_count": 4,
     "metadata": {},
     "output_type": "execute_result"
    }
   ],
   "source": [
    "for row in Flow(\n",
    "    load('https://app.redash.io/hasadna/api/queries/276124/results.csv')\n",
    ").results()[0][0]:\n",
    "    session = sessions_by_id.get(row['CommitteeSessionID'])\n",
    "    if session:\n",
    "        session['number of protocol parts'] = row['num_parts']\n",
    "        session['total protocol part bodies length'] = row['total_body_length']"
   ]
  },
  {
   "cell_type": "markdown",
   "metadata": {},
   "source": [
    "## Generate aggregate data per knesset"
   ]
  },
  {
   "cell_type": "code",
   "execution_count": 28,
   "metadata": {},
   "outputs": [
    {
     "data": {
      "text/plain": [
       "(<datapackage.package.Package at 0x7f56b2af6470>,\n",
       " {'count_of_rows': 74436,\n",
       "  'bytes': 8090943,\n",
       "  'hash': '2d3b6e8d6cc9813abad201adb8354787',\n",
       "  'dataset_name': None})"
      ]
     },
     "execution_count": 28,
     "metadata": {},
     "output_type": "execute_result"
    }
   ],
   "source": [
    "from dataflows import dump_to_path\n",
    "\n",
    "bool_fields = [\n",
    "    # 'has_downloaded_protocol',\n",
    "    # 'has_parts_protocol',\n",
    "    'has_text_protocol',\n",
    "    'has mks',\n",
    "    'has manager',\n",
    "    'has legal_advisors',\n",
    "    # 'has invitees',\n",
    "    # 'has attended_mk_individual_ids',\n",
    "    'related_to_bill',\n",
    "    'related_to_law',\n",
    "]\n",
    "\n",
    "def dump_sessions():\n",
    "    for session in sessions_by_id.values():\n",
    "        yield {\n",
    "            **{\n",
    "                k: session[k]\n",
    "                for k in [\n",
    "                    'KnessetNum',\n",
    "                    'StartDate',\n",
    "                    'TypeDesc',\n",
    "                    'committee_name',\n",
    "                ]\n",
    "            },\n",
    "            **{\n",
    "                k: bool(session[k])\n",
    "                for k in bool_fields\n",
    "            },\n",
    "            'number of protocol parts': session.get('number of protocol parts', 0),\n",
    "            'total protocol part bodies length': session.get('total protocol part bodies length', 0)\n",
    "        }\n",
    "\n",
    "knessets = {}\n",
    "for session in sessions_by_id.values():\n",
    "    knesset = knessets.setdefault(session['KnessetNum'], {})\n",
    "    knesset[\"total_sessions\"] = knesset.get(\"total_sessions\", 0) + 1\n",
    "    for field in bool_fields:\n",
    "        cur_value = knesset.setdefault(field, 0)\n",
    "        if session[field]:\n",
    "            knesset[field] = cur_value+1\n",
    "    num_parts = knesset.setdefault('number of protocol parts', 0)\n",
    "    if session.get('number of protocol parts'):\n",
    "        knesset['number of protocol parts'] = num_parts+session['number of protocol parts']\n",
    "        knesset['parts <= 2'] = knesset.setdefault('parts <= 2', 0) + (1 if session['number of protocol parts'] <= 2 else 0)\n",
    "        knesset['parts <= 5'] = knesset.setdefault('parts <= 5', 0) + (1 if 2 < session['number of protocol parts'] <= 5 else 0)\n",
    "        knesset['parts <= 10'] = knesset.setdefault('parts <= 10', 0) + (1 if 5 < session['number of protocol parts'] <= 10 else 0)\n",
    "        knesset['parts > 10'] = knesset.setdefault('parts > 10', 0) + (1 if session['number of protocol parts'] > 10 else 0)\n",
    "    body_length = knesset.setdefault('total protocol part bodies length', 0)\n",
    "    if session.get('total protocol part bodies length'):\n",
    "        knesset['total protocol part bodies length'] = body_length + session['total protocol part bodies length']\n",
    "for knesset_num, knesset in knessets.items():\n",
    "    knesset['average_protocol_parts'] = int(knesset['number of protocol parts'] / knesset['total_sessions'])\n",
    "    knesset['average_body_length'] = int(knesset['total protocol part bodies length'] / knesset['total_sessions'])\n",
    "        \n",
    "Flow(\n",
    "    dump_sessions(),\n",
    "    ({\"KnessetNum\": knesset_num, **knesset} for knesset_num, knesset in knessets.items()),\n",
    "    dump_to_path('data/protocol_speakers_categorization')\n",
    ").process()"
   ]
  }
 ],
 "metadata": {
  "kernelspec": {
   "display_name": "Python 3",
   "language": "python",
   "name": "python3"
  },
  "language_info": {
   "codemirror_mode": {
    "name": "ipython",
    "version": 3
   },
   "file_extension": ".py",
   "mimetype": "text/x-python",
   "name": "python",
   "nbconvert_exporter": "python",
   "pygments_lexer": "ipython3",
   "version": "3.6.6"
  }
 },
 "nbformat": 4,
 "nbformat_minor": 2
}
