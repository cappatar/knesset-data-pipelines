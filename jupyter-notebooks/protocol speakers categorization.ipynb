{
 "cells": [
  {
   "cell_type": "markdown",
   "metadata": {},
   "source": [
    "Install supported dataflows library (and restart the kernel if an upgrade was done)"
   ]
  },
  {
   "cell_type": "code",
   "execution_count": null,
   "metadata": {},
   "outputs": [],
   "source": [
    "!{'pip install --upgrade pip && pip install dataflows==0.0.58'}"
   ]
  },
  {
   "cell_type": "markdown",
   "metadata": {},
   "source": [
    "## Load the basic committee sessions data and store in local cache"
   ]
  },
  {
   "cell_type": "code",
   "execution_count": 72,
   "metadata": {},
   "outputs": [
    {
     "name": "stdout",
     "output_type": "stream",
     "text": [
      "saving checkpoint to: .checkpoints/protocol speakers categorization - 15\n",
      "checkpoint saved: protocol speakers categorization - 15\n"
     ]
    },
    {
     "data": {
      "text/plain": [
       "(<datapackage.package.Package at 0x7fb6fbaa3780>, {})"
      ]
     },
     "execution_count": 72,
     "metadata": {},
     "output_type": "execute_result"
    }
   ],
   "source": [
    "from dataflows import Flow, load, printer, checkpoint\n",
    "\n",
    "protocols_speakers_categorization_checkpoint = checkpoint('protocol speakers categorization - 15')\n",
    "\n",
    "Flow(\n",
    "    load('https://storage.googleapis.com/knesset-data-pipelines/data/committees/kns_committeesession/datapackage.json'),\n",
    "    load('https://storage.googleapis.com/knesset-data-pipelines/data/committees/kns_cmtsessionitem/datapackage.json'),\n",
    "    load('https://storage.googleapis.com/knesset-data-pipelines/data/knesset/kns_itemtype/datapackage.json'),\n",
    "    protocols_speakers_categorization_checkpoint,\n",
    ").process()"
   ]
  },
  {
   "cell_type": "markdown",
   "metadata": {},
   "source": [
    "## Load sessions and item types to memory"
   ]
  },
  {
   "cell_type": "code",
   "execution_count": 64,
   "metadata": {},
   "outputs": [
    {
     "name": "stdout",
     "output_type": "stream",
     "text": [
      "using checkpoint data from .checkpoints/protocol speakers categorization - 14\n",
      "{'num sessions': 74405, 'num session items': 47595, 'num item types': 10}\n"
     ]
    }
   ],
   "source": [
    "from collections import defaultdict\n",
    "\n",
    "stats = defaultdict(int)\n",
    "\n",
    "sessions_by_id = {}\n",
    "item_types_by_id = {}\n",
    "\n",
    "def load_sessions_by_id(rows):\n",
    "    if rows.res.name == 'kns_committeesession':\n",
    "        for row in rows:\n",
    "            sessions_by_id[row['CommitteeSessionID']] = row\n",
    "            stats['num sessions'] += 1\n",
    "    yield from rows\n",
    "\n",
    "def relate_session_items_to_sessions(rows):\n",
    "    if rows.res.name == 'kns_cmtsessionitem':\n",
    "        for row in rows:\n",
    "            stats['num session items'] += 1\n",
    "            session_id = row['CommitteeSessionID']\n",
    "            session = sessions_by_id.get(session_id)\n",
    "            if session:\n",
    "                session.setdefault('items', []).append(row)\n",
    "            else:\n",
    "                stats['num session items without related session'] += 1\n",
    "    yield from rows\n",
    "\n",
    "def load_item_types(rows):\n",
    "    if rows.res.name == 'kns_itemtype':\n",
    "        for row in rows:\n",
    "            item_types_by_id[row['ItemTypeID']] = row\n",
    "            stats['num item types'] += 1\n",
    "    yield from rows\n",
    "\n",
    "Flow(\n",
    "    protocols_speakers_categorization_checkpoint,\n",
    "    load_sessions_by_id,\n",
    "    relate_session_items_to_sessions,\n",
    "    load_item_types\n",
    ").process()\n",
    "\n",
    "print(dict(stats))"
   ]
  },
  {
   "cell_type": "code",
   "execution_count": 65,
   "metadata": {},
   "outputs": [
    {
     "name": "stdout",
     "output_type": "stream",
     "text": [
      "{1: {'Desc': 'שאילתה', 'ItemTypeID': 1, 'TableName': 'KNS_Query'}, 2: {'Desc': 'הצעת חוק', 'ItemTypeID': 2, 'TableName': 'KNS_Bill'}, 3: {'Desc': 'הצעת אי אמון', 'ItemTypeID': 3, 'TableName': None}, 4: {'Desc': 'הצעה לסדר היום', 'ItemTypeID': 4, 'TableName': 'KNS_Agenda'}, 5: {'Desc': 'ישיבת מליאה', 'ItemTypeID': 5, 'TableName': 'KNS_PlenumSession'}, 12: {'Desc': 'ישיבת ועדה', 'ItemTypeID': 12, 'TableName': 'KNS_CommitteSession'}, 6000: {'Desc': 'פעולה על פי חוק', 'ItemTypeID': 6000, 'TableName': 'KNS_Law'}, 6001: {'Desc': 'תיקון טעות', 'ItemTypeID': 6001, 'TableName': 'KNS_Law'}, 6002: {'Desc': 'חוק בן חיצוני', 'ItemTypeID': 6002, 'TableName': 'KNS_Law'}, 6003: {'Desc': 'חוק אב', 'ItemTypeID': 6003, 'TableName': 'KNS_IsraelLaw'}}\n"
     ]
    }
   ],
   "source": [
    "print(item_types_by_id)"
   ]
  },
  {
   "cell_type": "markdown",
   "metadata": {},
   "source": [
    "## Relate sessions to bills/laws based on item types"
   ]
  },
  {
   "cell_type": "code",
   "execution_count": 66,
   "metadata": {},
   "outputs": [
    {
     "name": "stdout",
     "output_type": "stream",
     "text": [
      "{'num sessions': 74405, 'related to bill': 11446, 'unknown item type id 11/15': 26509, 'related to law': 1195, 'related to bill and law': 28}\n"
     ]
    }
   ],
   "source": [
    "stats = defaultdict(int)\n",
    "\n",
    "for session in sessions_by_id.values():\n",
    "    stats['num sessions'] += 1\n",
    "    session['related_to_bill'] = False\n",
    "    session['related_to_law'] = False\n",
    "    for item in session.get('items', []):\n",
    "        item_type_id = item['ItemTypeID']\n",
    "        item_type = item_types_by_id.get(item_type_id)\n",
    "        if item_type:\n",
    "            table_name = item_type['TableName']\n",
    "            if table_name in ['KNS_Law', 'KNS_IsraelLaw']:\n",
    "                session['related_to_law'] = True\n",
    "            elif table_name == 'KNS_Bill':\n",
    "                session['related_to_bill'] = True\n",
    "        else:\n",
    "            assert item_type_id in [11,15], item_type_id\n",
    "            stats['unknown item type id 11/15'] += 1\n",
    "    if session['related_to_bill'] and session['related_to_law']:\n",
    "        stats['related to bill and law'] += 1\n",
    "    elif session['related_to_bill']:\n",
    "        stats['related to bill'] += 1\n",
    "    elif session['related_to_law']:\n",
    "        stats['related to law'] += 1\n",
    "\n",
    "print(dict(stats))"
   ]
  },
  {
   "cell_type": "markdown",
   "metadata": {},
   "source": [
    "## Mark sessions which have parts / text protocols"
   ]
  },
  {
   "cell_type": "code",
   "execution_count": 67,
   "metadata": {},
   "outputs": [
    {
     "name": "stdout",
     "output_type": "stream",
     "text": [
      "{'num sessions': 74405, 'has_downloaded_protocol': 46677, 'has_parts_protocol': 46662, 'has_text_protocol': 46022}\n"
     ]
    }
   ],
   "source": [
    "stats = defaultdict(int)\n",
    "\n",
    "for session in sessions_by_id.values():\n",
    "    stats['num sessions'] += 1\n",
    "    session['has_downloaded_protocol'] = session['download_filesize'] and session['download_filesize'] > 100\n",
    "    session['has_parts_protocol'] = session['parts_filesize'] and session['parts_filesize'] > 100\n",
    "    session['has_text_protocol'] = session['text_filesize'] and session['text_filesize'] > 100\n",
    "    if session['has_downloaded_protocol']:\n",
    "        stats['has_downloaded_protocol'] += 1\n",
    "    if session['has_parts_protocol']:\n",
    "        stats['has_parts_protocol'] += 1\n",
    "    if session['has_text_protocol']:\n",
    "        stats['has_text_protocol'] += 1\n",
    "\n",
    "print(dict(stats))"
   ]
  },
  {
   "cell_type": "markdown",
   "metadata": {},
   "source": [
    "## Load protocol attendees data"
   ]
  },
  {
   "cell_type": "code",
   "execution_count": 68,
   "metadata": {},
   "outputs": [
    {
     "name": "stdout",
     "output_type": "stream",
     "text": [
      "saving checkpoint to: .checkpoints/protocol speakers categorization - 25\n",
      "using checkpoint data from .checkpoints/protocol speakers categorization - 14\n",
      "checkpoint saved: protocol speakers categorization - 25\n"
     ]
    },
    {
     "data": {
      "text/plain": [
       "(<datapackage.package.Package at 0x7fb6fbd49438>, {})"
      ]
     },
     "execution_count": 68,
     "metadata": {},
     "output_type": "execute_result"
    }
   ],
   "source": [
    "old_protocols_speakers_categorization_checkpoint = protocols_speakers_categorization_checkpoint\n",
    "protocols_speakers_categorization_checkpoint = checkpoint('protocol speakers categorization - 25')\n",
    "\n",
    "Flow(\n",
    "    old_protocols_speakers_categorization_checkpoint,\n",
    "    load('https://storage.googleapis.com/knesset-data-pipelines/data/people/committees/meeting-attendees/datapackage.json'),\n",
    "    protocols_speakers_categorization_checkpoint\n",
    ").process()"
   ]
  },
  {
   "cell_type": "markdown",
   "metadata": {},
   "source": [
    "## Update sessions data in memory with loaded attendees data"
   ]
  },
  {
   "cell_type": "code",
   "execution_count": 71,
   "metadata": {},
   "outputs": [
    {
     "name": "stdout",
     "output_type": "stream",
     "text": [
      "using checkpoint data from .checkpoints/protocol speakers categorization - 25\n",
      "[{'description': 'מספר השורה בטבלה זו', 'name': 'CommitteeSessionID', 'type': 'integer'}, {'description': 'מספר הישיבה', 'name': 'Number', 'type': 'integer'}, {'description': 'מספר הכנסת', 'name': 'KnessetNum', 'type': 'integer'}, {'description': 'קוד סוג הישיבה', 'name': 'TypeID', 'type': 'integer'}, {'description': 'תיאור סוג הישיבה (פתוחה, חסויה, סיור)', 'name': 'TypeDesc', 'type': 'string'}, {'description': 'קוד הוועדה', 'name': 'CommitteeID', 'type': 'integer'}, {'description': 'מיקום הישיבה', 'name': 'Location', 'type': 'string'}, {'description': 'קישור לישיבה באתר הכנסת', 'name': 'SessionUrl', 'type': 'string'}, {'description': 'קישור לשידור הישיבה באתר הכנסת', 'name': 'BroadcastUrl', 'type': 'string'}, {'description': 'תאריך התחלה', 'format': '%Y-%m-%d %H:%M:%S', 'name': 'StartDate', 'type': 'datetime'}, {'description': 'תאריך סיום', 'format': '%Y-%m-%d %H:%M:%S', 'name': 'FinishDate', 'type': 'datetime'}, {'description': 'הערה', 'name': 'Note', 'type': 'string'}, {'description': 'תאריך עדכון אחרון', 'format': '%Y-%m-%d %H:%M:%S', 'name': 'LastUpdatedDate', 'type': 'datetime'}, {'name': 'download_crc32c', 'type': 'string'}, {'name': 'download_filename', 'type': 'string'}, {'name': 'download_filesize', 'type': 'integer'}, {'name': 'parts_crc32c', 'type': 'string'}, {'name': 'parts_filesize', 'type': 'integer'}, {'name': 'parts_parsed_filename', 'type': 'string'}, {'name': 'text_crc32c', 'type': 'string'}, {'name': 'text_filesize', 'type': 'integer'}, {'name': 'text_parsed_filename', 'type': 'string'}, {'name': 'topics', 'type': 'array'}, {'description': 'שם הוועדה', 'name': 'committee_name', 'type': 'string'}]\n",
      "[{'description': 'מספר השורה בטבלה זו', 'name': 'CmtSessionItemID', 'type': 'integer'}, {'description': 'קוד הפריט ששובץ לישיבת הוועדה', 'name': 'ItemID', 'type': 'integer'}, {'description': 'קוד ישיבת הוועדה', 'name': 'CommitteeSessionID', 'type': 'integer'}, {'description': 'מספר סידורי של הפריט בישיבה', 'name': 'Ordinal', 'type': 'integer'}, {'description': 'קוד סטטוס של הפריט בזמן הישיבה', 'name': 'StatusID', 'type': 'integer'}, {'description': 'שם הפריט בישיבה', 'name': 'Name', 'type': 'string'}, {'description': 'קוד סוג הפריט', 'name': 'ItemTypeID', 'type': 'integer'}, {'description': 'תאריך עדכון אחרון', 'format': '%Y-%m-%d %H:%M:%S', 'name': 'LastUpdatedDate', 'type': 'datetime'}]\n",
      "[{'description': 'קוד סוג הפריט', 'name': 'ItemTypeID', 'type': 'integer'}, {'description': 'תיאור סוג הפריט\\nהצ\"ח, הלס\"י, הצעת אי אמון, שאילתה, ישיבת ועדה, ישיבת מליאה,\\nתיקון טעות, חוקים אחרים, חוק אב\\n', 'name': 'Desc', 'type': 'string'}, {'description': 'שם הטבלה הרלוונטית', 'name': 'TableName', 'type': 'string'}]\n",
      "[{'description': 'מספר השורה בטבלה זו', 'name': 'CommitteeSessionID', 'type': 'integer'}, {'description': 'מספר הישיבה', 'name': 'Number', 'type': 'integer'}, {'description': 'מספר הכנסת', 'name': 'KnessetNum', 'type': 'integer'}, {'description': 'קוד סוג הישיבה', 'name': 'TypeID', 'type': 'integer'}, {'description': 'תיאור סוג הישיבה (פתוחה, חסויה, סיור)', 'name': 'TypeDesc', 'type': 'string'}, {'description': 'קוד הוועדה', 'name': 'CommitteeID', 'type': 'integer'}, {'description': 'מיקום הישיבה', 'name': 'Location', 'type': 'string'}, {'description': 'קישור לישיבה באתר הכנסת', 'name': 'SessionUrl', 'type': 'string'}, {'description': 'קישור לשידור הישיבה באתר הכנסת', 'name': 'BroadcastUrl', 'type': 'string'}, {'description': 'תאריך התחלה', 'format': '%Y-%m-%d %H:%M:%S', 'name': 'StartDate', 'type': 'datetime'}, {'description': 'תאריך סיום', 'format': '%Y-%m-%d %H:%M:%S', 'name': 'FinishDate', 'type': 'datetime'}, {'description': 'הערה', 'name': 'Note', 'type': 'string'}, {'description': 'תאריך עדכון אחרון', 'format': '%Y-%m-%d %H:%M:%S', 'name': 'LastUpdatedDate', 'type': 'datetime'}, {'name': 'download_crc32c', 'type': 'string'}, {'name': 'download_filename', 'type': 'string'}, {'name': 'download_filesize', 'type': 'integer'}, {'name': 'parts_crc32c', 'type': 'string'}, {'name': 'parts_filesize', 'type': 'integer'}, {'name': 'parts_parsed_filename', 'type': 'string'}, {'name': 'text_crc32c', 'type': 'string'}, {'name': 'text_filesize', 'type': 'integer'}, {'name': 'text_parsed_filename', 'type': 'string'}, {'name': 'topics', 'type': 'array'}, {'description': 'שם הוועדה', 'name': 'committee_name', 'type': 'string'}]\n"
     ]
    },
    {
     "data": {
      "text/plain": [
       "(<datapackage.package.Package at 0x7fb6fbcddc88>, {})"
      ]
     },
     "execution_count": 71,
     "metadata": {},
     "output_type": "execute_result"
    }
   ],
   "source": [
    "stats = defaultdict(int)\n",
    "\n",
    "def load_attendees():\n",
    "\n",
    "    def _process(rows):\n",
    "        print(rows.res.descriptor['schema']['fields'])\n",
    "        if 'financial_advisors' in [f['name'] for f in rows.res.descriptor['schema']['fields']]:\n",
    "            for row in rows:\n",
    "                stats['num sessions'] += 1\n",
    "                session = sessions_by_id.get(row['CommitteeSessionID'])\n",
    "                if session:\n",
    "                    session.update(\n",
    "                        attended_mk_individual_ids=row['attended_mk_individual_ids'],\n",
    "                        invitees=row['invitees'],\n",
    "                        legal_advisors=row['legal_advisors'],\n",
    "                        manager=row['manager'],\n",
    "                        mks=row['mks'],\n",
    "                        financial_advisors=row['financial_advisors']\n",
    "                    )\n",
    "                else:\n",
    "                    stats['missing related session'] += 1\n",
    "        yield from rows\n",
    "    \n",
    "    return _process\n",
    "\n",
    "Flow(\n",
    "    protocols_speakers_categorization_checkpoint,\n",
    "    load_attendees()\n",
    ").process()"
   ]
  },
  {
   "cell_type": "code",
   "execution_count": 70,
   "metadata": {},
   "outputs": [
    {
     "name": "stdout",
     "output_type": "stream",
     "text": [
      "{}\n"
     ]
    }
   ],
   "source": [
    "print(dict(stats))"
   ]
  },
  {
   "cell_type": "markdown",
   "metadata": {},
   "source": [
    "## Mark sessions which have different attendee types"
   ]
  },
  {
   "cell_type": "code",
   "execution_count": 11,
   "metadata": {},
   "outputs": [
    {
     "name": "stdout",
     "output_type": "stream",
     "text": [
      "{'num sessions': 74405, 'has mks': 35614, 'has invitees': 36011, 'has attended_mk_individual_ids': 32735, 'has legal_advisors': 13069, 'has manager': 17905}\n"
     ]
    }
   ],
   "source": [
    "stats = defaultdict(int)\n",
    "\n",
    "for session in sessions_by_id.values():\n",
    "    stats['num sessions'] += 1\n",
    "    for invitees_type in ['mks', 'manager', 'legal_advisors', 'invitees', 'attended_mk_individual_ids']:\n",
    "        session['has {}'.format(invitees_type)] = False\n",
    "        invitees = session.get(invitees_type)\n",
    "        if invitees and len(invitees) > 0:\n",
    "            session['has {}'.format(invitees_type)] = True\n",
    "            stats['has {}'.format(invitees_type)] += 1\n",
    "#     if session['has manager'] and session['has legal_advisors'] and session['has manager']:\n",
    "#     if session['text_parsed_filename'] and not session['has manager']:\n",
    "#         print(session)\n",
    "#         break\n",
    "            \n",
    "print(dict(stats))"
   ]
  },
  {
   "cell_type": "markdown",
   "metadata": {},
   "source": [
    "## Download parts protocols (to local cache) and count number of parts per session"
   ]
  },
  {
   "cell_type": "code",
   "execution_count": 44,
   "metadata": {},
   "outputs": [
    {
     "name": "stdout",
     "output_type": "stream",
     "text": [
      "{'num_sessions': 56877, 'num_sessions_knesset_11-20': 37534, 'downloaded_parts': 31099, 'total_len_parts': 4941472, 'average_len_parts': 158}\n"
     ]
    }
   ],
   "source": [
    "import requests\n",
    "import os\n",
    "import csv\n",
    "import sys\n",
    "\n",
    "csv.field_size_limit(sys.maxsize)\n",
    "\n",
    "stats = defaultdict(int)\n",
    "\n",
    "for session in sessions_by_id.values():\n",
    "    session['num_protocol_parts'] = 0\n",
    "    stats['num_sessions'] += 1\n",
    "    \n",
    "    if stats['num_sessions'] >= 56877: break\n",
    "        \n",
    "    if 11 <= int(session['KnessetNum']) <= 20:\n",
    "        stats['num_sessions_knesset_11-20'] += 1\n",
    "        if session['has_parts_protocol']:\n",
    "            url = 'https://storage.googleapis.com/knesset-data-pipelines/data/committees/meeting_protocols_parts/{}'.format(session['parts_parsed_filename'])\n",
    "            filename = 'data/protocol_parts/{}'.format(session['parts_parsed_filename'])\n",
    "            if not os.path.exists(filename):\n",
    "                try:\n",
    "                    res = requests.get(url, timeout=30)\n",
    "                    if res.status_code == 200:\n",
    "                        content = res.content\n",
    "                    else:\n",
    "                        stats['http_{}_errors'.format(res.status_code)] += 1\n",
    "                        content = b''\n",
    "                except Exception:\n",
    "                    stats['exceptions'] += 1\n",
    "                    content = b''\n",
    "                os.makedirs(os.path.dirname(filename), exist_ok=True)\n",
    "                with open(filename, 'wb') as f:\n",
    "                    f.write(content)\n",
    "            session['num_protocol_parts'] = 0\n",
    "            if os.path.exists(filename) and os.path.getsize(filename) > 10:\n",
    "                stats['downloaded_parts'] += 1\n",
    "                parts = Flow(load(filename)).results()[0][0]\n",
    "                session['num_protocol_parts'] = len(parts)\n",
    "                stats['total_len_parts'] += len(parts)\n",
    "                # if stats['downloaded_parts'] > 20: break\n",
    "                # if stats['downloaded_parts'] % 100 == 0:\n",
    "                #     print(dict(stats))\n",
    "\n",
    "stats['average_len_parts'] = int(stats['total_len_parts'] / stats['downloaded_parts'])\n",
    "\n",
    "print(dict(stats))"
   ]
  },
  {
   "cell_type": "markdown",
   "metadata": {},
   "source": [
    "## Generate aggregate data per knesset"
   ]
  },
  {
   "cell_type": "code",
   "execution_count": 45,
   "metadata": {},
   "outputs": [
    {
     "data": {
      "text/plain": [
       "(<datapackage.package.Package at 0x7fb6f5f0add8>,\n",
       " {'count_of_rows': 74426,\n",
       "  'bytes': 7790155,\n",
       "  'hash': '9e0a7029cefa18159d941ef2068a0e27',\n",
       "  'dataset_name': None})"
      ]
     },
     "execution_count": 45,
     "metadata": {},
     "output_type": "execute_result"
    }
   ],
   "source": [
    "from dataflows import dump_to_path\n",
    "\n",
    "bool_fields = [\n",
    "    # 'has_downloaded_protocol',\n",
    "    # 'has_parts_protocol',\n",
    "    'has_text_protocol',\n",
    "    'has mks',\n",
    "    'has manager',\n",
    "    'has legal_advisors',\n",
    "    # 'has invitees',\n",
    "    # 'has attended_mk_individual_ids',\n",
    "    'related_to_bill',\n",
    "    'related_to_law',\n",
    "]\n",
    "\n",
    "def dump_sessions():\n",
    "    for session in sessions_by_id.values():\n",
    "        yield {\n",
    "            **{\n",
    "                k: session[k]\n",
    "                for k in [\n",
    "                    'KnessetNum',\n",
    "                    'StartDate',\n",
    "                    'TypeDesc',\n",
    "                    'committee_name',\n",
    "                ]\n",
    "            },\n",
    "            **{\n",
    "                k: bool(session[k])\n",
    "                for k in bool_fields\n",
    "            },\n",
    "            'num_protocol_parts': session['num_protocol_parts'],\n",
    "        }\n",
    "\n",
    "def dump_sessions_agg_by_knesset():\n",
    "    knessets = {}\n",
    "    for session in sessions_by_id.values():\n",
    "        knesset = knessets.setdefault(session['KnessetNum'], {})\n",
    "        knesset[\"total_sessions\"] = knesset.get(\"total_sessions\", 0) + 1\n",
    "        for field in bool_fields:\n",
    "            cur_value = knesset.setdefault(field, 0)\n",
    "            if session[field]:\n",
    "                knesset[field] = cur_value+1\n",
    "        num_parts = knesset.setdefault('num_protocol_parts', 0)\n",
    "        if session.get('num_protocol_parts'):\n",
    "            knesset['num_protocol_parts'] = num_parts+session['num_protocol_parts']\n",
    "            knesset['parts <= 2'] = knesset.setdefault('parts <= 2', 0) + (1 if session['num_protocol_parts'] <= 2 else 0)\n",
    "            knesset['parts <= 5'] = knesset.setdefault('parts <= 5', 0) + (1 if 2 < session['num_protocol_parts'] <= 5 else 0)\n",
    "            knesset['parts <= 10'] = knesset.setdefault('parts <= 10', 0) + (1 if 5 < session['num_protocol_parts'] <= 10 else 0)\n",
    "            knesset['parts > 10'] = knesset.setdefault('parts > 10', 0) + (1 if session['num_protocol_parts'] > 10 else 0)\n",
    "    for knesset_num, knesset in knessets.items():\n",
    "        knesset['average_protocol_parts'] = int(knesset['num_protocol_parts'] / knesset['total_sessions'])\n",
    "    for knesset_num, knesset in knessets.items():\n",
    "        yield {\n",
    "            \"KnessetNum\": knesset_num,\n",
    "            **knesset\n",
    "        }\n",
    "        \n",
    "Flow(\n",
    "    dump_sessions(),\n",
    "    dump_sessions_agg_by_knesset(),\n",
    "    dump_to_path('data/protocol_speakers_categorization')\n",
    ").process()"
   ]
  },
  {
   "cell_type": "markdown",
   "metadata": {},
   "source": [
    "## Generate report"
   ]
  },
  {
   "cell_type": "code",
   "execution_count": 46,
   "metadata": {},
   "outputs": [
    {
     "data": {
      "text/html": [
       "<h3>res_2</h3>"
      ],
      "text/plain": [
       "<IPython.core.display.HTML object>"
      ]
     },
     "metadata": {},
     "output_type": "display_data"
    },
    {
     "data": {
      "text/html": [
       "<table>\n",
       "<thead>\n",
       "<tr><th style=\"text-align: right;\">  #</th><th style=\"text-align: right;\">   KnessetNum\n",
       "(integer)</th><th style=\"text-align: right;\">      total_sessions\n",
       "(integer)</th><th style=\"text-align: right;\">     has_text_protocol\n",
       "(integer)</th><th style=\"text-align: right;\">     has mks\n",
       "(integer)</th><th style=\"text-align: right;\">     has manager\n",
       "(integer)</th><th style=\"text-align: right;\">     has legal_advisors\n",
       "(integer)</th><th style=\"text-align: right;\">     related_to_bill\n",
       "(integer)</th><th style=\"text-align: right;\">     related_to_law\n",
       "(integer)</th><th style=\"text-align: right;\">        num_protocol_parts\n",
       "(integer)</th><th style=\"text-align: right;\">    parts <= 2\n",
       "(string)</th><th style=\"text-align: right;\">    parts <= 5\n",
       "(string)</th><th style=\"text-align: right;\">     parts <= 10\n",
       "(string)</th><th style=\"text-align: right;\">     parts > 10\n",
       "(string)</th><th style=\"text-align: right;\">    average_protocol_parts\n",
       "(integer)</th></tr>\n",
       "</thead>\n",
       "<tbody>\n",
       "<tr><td style=\"text-align: right;\">  1</td><td style=\"text-align: right;\">11</td><td style=\"text-align: right;\"> 3092</td><td style=\"text-align: right;\">3008</td><td style=\"text-align: right;\">1135</td><td style=\"text-align: right;\">   0</td><td style=\"text-align: right;\">   0</td><td style=\"text-align: right;\">  11</td><td style=\"text-align: right;\">   0</td><td style=\"text-align: right;\"> 119628</td><td style=\"text-align: right;\">387</td><td style=\"text-align: right;\">405</td><td style=\"text-align: right;\"> 301</td><td style=\"text-align: right;\">1994</td><td style=\"text-align: right;\"> 38</td></tr>\n",
       "<tr><td style=\"text-align: right;\">  2</td><td style=\"text-align: right;\">12</td><td style=\"text-align: right;\"> 3104</td><td style=\"text-align: right;\">3017</td><td style=\"text-align: right;\">1342</td><td style=\"text-align: right;\">   0</td><td style=\"text-align: right;\">   0</td><td style=\"text-align: right;\">   1</td><td style=\"text-align: right;\">   0</td><td style=\"text-align: right;\"> 181231</td><td style=\"text-align: right;\">461</td><td style=\"text-align: right;\">420</td><td style=\"text-align: right;\"> 157</td><td style=\"text-align: right;\">2053</td><td style=\"text-align: right;\"> 58</td></tr>\n",
       "<tr><td style=\"text-align: right;\">  3</td><td style=\"text-align: right;\">13</td><td style=\"text-align: right;\"> 3709</td><td style=\"text-align: right;\">3584</td><td style=\"text-align: right;\">1304</td><td style=\"text-align: right;\">  23</td><td style=\"text-align: right;\">   0</td><td style=\"text-align: right;\">   0</td><td style=\"text-align: right;\">   0</td><td style=\"text-align: right;\"> 289033</td><td style=\"text-align: right;\">406</td><td style=\"text-align: right;\">366</td><td style=\"text-align: right;\"> 162</td><td style=\"text-align: right;\">2746</td><td style=\"text-align: right;\"> 77</td></tr>\n",
       "<tr><td style=\"text-align: right;\">  4</td><td style=\"text-align: right;\">14</td><td style=\"text-align: right;\"> 3068</td><td style=\"text-align: right;\">2926</td><td style=\"text-align: right;\">1409</td><td style=\"text-align: right;\"> 101</td><td style=\"text-align: right;\">   0</td><td style=\"text-align: right;\">   0</td><td style=\"text-align: right;\">   0</td><td style=\"text-align: right;\"> 295747</td><td style=\"text-align: right;\">362</td><td style=\"text-align: right;\">210</td><td style=\"text-align: right;\">  88</td><td style=\"text-align: right;\">2348</td><td style=\"text-align: right;\"> 96</td></tr>\n",
       "<tr><td style=\"text-align: right;\">  5</td><td style=\"text-align: right;\">15</td><td style=\"text-align: right;\"> 4694</td><td style=\"text-align: right;\">4139</td><td style=\"text-align: right;\">3459</td><td style=\"text-align: right;\">  84</td><td style=\"text-align: right;\">   6</td><td style=\"text-align: right;\">   5</td><td style=\"text-align: right;\">   0</td><td style=\"text-align: right;\"> 721018</td><td style=\"text-align: right;\">400</td><td style=\"text-align: right;\">104</td><td style=\"text-align: right;\"> 126</td><td style=\"text-align: right;\">3804</td><td style=\"text-align: right;\">153</td></tr>\n",
       "<tr><td style=\"text-align: right;\">  6</td><td style=\"text-align: right;\">16</td><td style=\"text-align: right;\"> 7251</td><td style=\"text-align: right;\">4121</td><td style=\"text-align: right;\">2743</td><td style=\"text-align: right;\"> 136</td><td style=\"text-align: right;\"> 132</td><td style=\"text-align: right;\">1884</td><td style=\"text-align: right;\">   0</td><td style=\"text-align: right;\"> 565074</td><td style=\"text-align: right;\">135</td><td style=\"text-align: right;\"> 38</td><td style=\"text-align: right;\">1173</td><td style=\"text-align: right;\">2767</td><td style=\"text-align: right;\"> 77</td></tr>\n",
       "<tr><td style=\"text-align: right;\">  7</td><td style=\"text-align: right;\">17</td><td style=\"text-align: right;\"> 6904</td><td style=\"text-align: right;\">5634</td><td style=\"text-align: right;\">5437</td><td style=\"text-align: right;\">1693</td><td style=\"text-align: right;\">1288</td><td style=\"text-align: right;\">2286</td><td style=\"text-align: right;\">   0</td><td style=\"text-align: right;\">1009113</td><td style=\"text-align: right;\">  2</td><td style=\"text-align: right;\"> 21</td><td style=\"text-align: right;\"> 102</td><td style=\"text-align: right;\">5508</td><td style=\"text-align: right;\">146</td></tr>\n",
       "<tr><td style=\"text-align: right;\">  8</td><td style=\"text-align: right;\">18</td><td style=\"text-align: right;\"> 8669</td><td style=\"text-align: right;\">7313</td><td style=\"text-align: right;\">7100</td><td style=\"text-align: right;\">4642</td><td style=\"text-align: right;\">3407</td><td style=\"text-align: right;\">2706</td><td style=\"text-align: right;\">   0</td><td style=\"text-align: right;\">1707841</td><td style=\"text-align: right;\">  1</td><td style=\"text-align: right;\"> 13</td><td style=\"text-align: right;\"> 101</td><td style=\"text-align: right;\">7196</td><td style=\"text-align: right;\">197</td></tr>\n",
       "<tr><td style=\"text-align: right;\">  9</td><td style=\"text-align: right;\">19</td><td style=\"text-align: right;\"> 4130</td><td style=\"text-align: right;\">3404</td><td style=\"text-align: right;\">3402</td><td style=\"text-align: right;\">3233</td><td style=\"text-align: right;\">2383</td><td style=\"text-align: right;\">1270</td><td style=\"text-align: right;\">   0</td><td style=\"text-align: right;\">1064940</td><td style=\"text-align: right;\">  0</td><td style=\"text-align: right;\">  0</td><td style=\"text-align: right;\">  20</td><td style=\"text-align: right;\">3383</td><td style=\"text-align: right;\">257</td></tr>\n",
       "<tr><td style=\"text-align: right;\"> 10</td><td style=\"text-align: right;\">20</td><td style=\"text-align: right;\">10263</td><td style=\"text-align: right;\">8806</td><td style=\"text-align: right;\">8215</td><td style=\"text-align: right;\">7925</td><td style=\"text-align: right;\">5787</td><td style=\"text-align: right;\">3208</td><td style=\"text-align: right;\">1208</td><td style=\"text-align: right;\">2499044</td><td style=\"text-align: right;\">439</td><td style=\"text-align: right;\">121</td><td style=\"text-align: right;\"> 199</td><td style=\"text-align: right;\">8051</td><td style=\"text-align: right;\">243</td></tr>\n",
       "</tbody>\n",
       "</table>"
      ],
      "text/plain": [
       "<IPython.core.display.HTML object>"
      ]
     },
     "metadata": {},
     "output_type": "display_data"
    },
    {
     "data": {
      "text/plain": [
       "(<datapackage.package.Package at 0x7fb6de1919b0>, {})"
      ]
     },
     "execution_count": 46,
     "metadata": {},
     "output_type": "execute_result"
    }
   ],
   "source": [
    "from dataflows import sort_rows, filter_rows\n",
    "\n",
    "Flow(\n",
    "    load('data/protocol_speakers_categorization/res_2.csv'),\n",
    "    filter_rows(lambda row: 11 <= int(row['KnessetNum']) <= 20),\n",
    "    sort_rows('{KnessetNum:0>2}'),\n",
    "    printer(tablefmt='html', num_rows=999)\n",
    ").process()"
   ]
  }
 ],
 "metadata": {
  "kernelspec": {
   "display_name": "Python 3",
   "language": "python",
   "name": "python3"
  },
  "language_info": {
   "codemirror_mode": {
    "name": "ipython",
    "version": 3
   },
   "file_extension": ".py",
   "mimetype": "text/x-python",
   "name": "python",
   "nbconvert_exporter": "python",
   "pygments_lexer": "ipython3",
   "version": "3.6.6"
  }
 },
 "nbformat": 4,
 "nbformat_minor": 2
}
